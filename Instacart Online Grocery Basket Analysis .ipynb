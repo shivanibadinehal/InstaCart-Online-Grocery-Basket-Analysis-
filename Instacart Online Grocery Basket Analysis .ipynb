{
 "cells": [
  {
   "cell_type": "code",
   "execution_count": 1,
   "id": "cc500c16",
   "metadata": {},
   "outputs": [],
   "source": [
    "#importing libraries\n",
    "import pandas as pd\n",
    "import matplotlib.pyplot as plt\n",
    "import seaborn as sns\n",
    "import warnings\n",
    "warnings.filterwarnings(\"ignore\")"
   ]
  },
  {
   "cell_type": "code",
   "execution_count": 2,
   "id": "dfe64fb0",
   "metadata": {},
   "outputs": [],
   "source": [
    "# Reading Data Sets"
   ]
  },
  {
   "cell_type": "code",
   "execution_count": 3,
   "id": "80f1ab90",
   "metadata": {},
   "outputs": [
    {
     "name": "stdout",
     "output_type": "stream",
     "text": [
      "<class 'pandas.core.frame.DataFrame'>\n",
      "RangeIndex: 134 entries, 0 to 133\n",
      "Data columns (total 2 columns):\n",
      " #   Column    Non-Null Count  Dtype \n",
      "---  ------    --------------  ----- \n",
      " 0   aisle_id  134 non-null    int64 \n",
      " 1   aisle     134 non-null    object\n",
      "dtypes: int64(1), object(1)\n",
      "memory usage: 2.2+ KB\n"
     ]
    }
   ],
   "source": [
    "aisles = pd.read_csv(\"/Users/shivanireddy/Downloads/archive/aisles.csv\")\n",
    "aisles.info()"
   ]
  },
  {
   "cell_type": "code",
   "execution_count": 4,
   "id": "3cb0a1ed",
   "metadata": {},
   "outputs": [
    {
     "name": "stdout",
     "output_type": "stream",
     "text": [
      "<class 'pandas.core.frame.DataFrame'>\n",
      "RangeIndex: 21 entries, 0 to 20\n",
      "Data columns (total 2 columns):\n",
      " #   Column         Non-Null Count  Dtype \n",
      "---  ------         --------------  ----- \n",
      " 0   department_id  21 non-null     int64 \n",
      " 1   department     21 non-null     object\n",
      "dtypes: int64(1), object(1)\n",
      "memory usage: 464.0+ bytes\n"
     ]
    }
   ],
   "source": [
    "departments=pd.read_csv(\"/Users/shivanireddy/Downloads/archive/departments.csv\")\n",
    "departments.info()"
   ]
  },
  {
   "cell_type": "code",
   "execution_count": 5,
   "id": "7d49b768",
   "metadata": {},
   "outputs": [
    {
     "name": "stdout",
     "output_type": "stream",
     "text": [
      "<class 'pandas.core.frame.DataFrame'>\n",
      "RangeIndex: 3421083 entries, 0 to 3421082\n",
      "Data columns (total 7 columns):\n",
      " #   Column                  Dtype  \n",
      "---  ------                  -----  \n",
      " 0   order_id                int64  \n",
      " 1   user_id                 int64  \n",
      " 2   eval_set                object \n",
      " 3   order_number            int64  \n",
      " 4   order_dow               int64  \n",
      " 5   order_hour_of_day       int64  \n",
      " 6   days_since_prior_order  float64\n",
      "dtypes: float64(1), int64(5), object(1)\n",
      "memory usage: 182.7+ MB\n"
     ]
    }
   ],
   "source": [
    "orders=pd.read_csv(\"/Users/shivanireddy/Downloads/archive/orders.csv\")\n",
    "orders.info()"
   ]
  },
  {
   "cell_type": "code",
   "execution_count": 6,
   "id": "f40af521",
   "metadata": {},
   "outputs": [
    {
     "name": "stdout",
     "output_type": "stream",
     "text": [
      "<class 'pandas.core.frame.DataFrame'>\n",
      "RangeIndex: 49688 entries, 0 to 49687\n",
      "Data columns (total 4 columns):\n",
      " #   Column         Non-Null Count  Dtype \n",
      "---  ------         --------------  ----- \n",
      " 0   product_id     49688 non-null  int64 \n",
      " 1   product_name   49688 non-null  object\n",
      " 2   aisle_id       49688 non-null  int64 \n",
      " 3   department_id  49688 non-null  int64 \n",
      "dtypes: int64(3), object(1)\n",
      "memory usage: 1.5+ MB\n"
     ]
    }
   ],
   "source": [
    "products=pd.read_csv(\"/Users/shivanireddy/Downloads/archive/products.csv\")\n",
    "products.info()"
   ]
  },
  {
   "cell_type": "code",
   "execution_count": 7,
   "id": "e24e2de2",
   "metadata": {},
   "outputs": [],
   "source": [
    "#Extracting the Organic Products"
   ]
  },
  {
   "cell_type": "code",
   "execution_count": 10,
   "id": "172378e3",
   "metadata": {},
   "outputs": [],
   "source": [
    "organic = products['product_name'].str.contains('Organic')\n",
    "products['is_organic'] = organic"
   ]
  },
  {
   "cell_type": "code",
   "execution_count": 11,
   "id": "b0219279",
   "metadata": {},
   "outputs": [
    {
     "data": {
      "text/html": [
       "<div>\n",
       "<style scoped>\n",
       "    .dataframe tbody tr th:only-of-type {\n",
       "        vertical-align: middle;\n",
       "    }\n",
       "\n",
       "    .dataframe tbody tr th {\n",
       "        vertical-align: top;\n",
       "    }\n",
       "\n",
       "    .dataframe thead th {\n",
       "        text-align: right;\n",
       "    }\n",
       "</style>\n",
       "<table border=\"1\" class=\"dataframe\">\n",
       "  <thead>\n",
       "    <tr style=\"text-align: right;\">\n",
       "      <th></th>\n",
       "      <th>product_id</th>\n",
       "      <th>product_name</th>\n",
       "      <th>aisle_id</th>\n",
       "      <th>department_id</th>\n",
       "      <th>is_organic</th>\n",
       "    </tr>\n",
       "  </thead>\n",
       "  <tbody>\n",
       "    <tr>\n",
       "      <th>0</th>\n",
       "      <td>1</td>\n",
       "      <td>Chocolate Sandwich Cookies</td>\n",
       "      <td>61</td>\n",
       "      <td>19</td>\n",
       "      <td>False</td>\n",
       "    </tr>\n",
       "    <tr>\n",
       "      <th>1</th>\n",
       "      <td>2</td>\n",
       "      <td>All-Seasons Salt</td>\n",
       "      <td>104</td>\n",
       "      <td>13</td>\n",
       "      <td>False</td>\n",
       "    </tr>\n",
       "    <tr>\n",
       "      <th>2</th>\n",
       "      <td>3</td>\n",
       "      <td>Robust Golden Unsweetened Oolong Tea</td>\n",
       "      <td>94</td>\n",
       "      <td>7</td>\n",
       "      <td>False</td>\n",
       "    </tr>\n",
       "    <tr>\n",
       "      <th>3</th>\n",
       "      <td>4</td>\n",
       "      <td>Smart Ones Classic Favorites Mini Rigatoni Wit...</td>\n",
       "      <td>38</td>\n",
       "      <td>1</td>\n",
       "      <td>False</td>\n",
       "    </tr>\n",
       "    <tr>\n",
       "      <th>4</th>\n",
       "      <td>5</td>\n",
       "      <td>Green Chile Anytime Sauce</td>\n",
       "      <td>5</td>\n",
       "      <td>13</td>\n",
       "      <td>False</td>\n",
       "    </tr>\n",
       "  </tbody>\n",
       "</table>\n",
       "</div>"
      ],
      "text/plain": [
       "   product_id                                       product_name  aisle_id  \\\n",
       "0           1                         Chocolate Sandwich Cookies        61   \n",
       "1           2                                   All-Seasons Salt       104   \n",
       "2           3               Robust Golden Unsweetened Oolong Tea        94   \n",
       "3           4  Smart Ones Classic Favorites Mini Rigatoni Wit...        38   \n",
       "4           5                          Green Chile Anytime Sauce         5   \n",
       "\n",
       "   department_id  is_organic  \n",
       "0             19       False  \n",
       "1             13       False  \n",
       "2              7       False  \n",
       "3              1       False  \n",
       "4             13       False  "
      ]
     },
     "execution_count": 11,
     "metadata": {},
     "output_type": "execute_result"
    }
   ],
   "source": [
    "products.head()"
   ]
  },
  {
   "cell_type": "code",
   "execution_count": 12,
   "id": "275641fc",
   "metadata": {},
   "outputs": [
    {
     "name": "stdout",
     "output_type": "stream",
     "text": [
      "<class 'pandas.core.frame.DataFrame'>\n",
      "RangeIndex: 32434489 entries, 0 to 32434488\n",
      "Data columns (total 4 columns):\n",
      " #   Column             Dtype\n",
      "---  ------             -----\n",
      " 0   order_id           int64\n",
      " 1   product_id         int64\n",
      " 2   add_to_cart_order  int64\n",
      " 3   reordered          int64\n",
      "dtypes: int64(4)\n",
      "memory usage: 989.8 MB\n"
     ]
    }
   ],
   "source": [
    "order_products_prior=pd.read_csv(\"/Users/shivanireddy/Downloads/archive/order_products__prior.csv\")\n",
    "order_products_prior.info()"
   ]
  },
  {
   "cell_type": "code",
   "execution_count": 13,
   "id": "ca1495bf",
   "metadata": {},
   "outputs": [
    {
     "data": {
      "text/plain": [
       "order_id             32434489\n",
       "product_id           32434489\n",
       "add_to_cart_order    32434489\n",
       "reordered            32434489\n",
       "dtype: int64"
      ]
     },
     "execution_count": 13,
     "metadata": {},
     "output_type": "execute_result"
    }
   ],
   "source": [
    "order_products_prior.count()"
   ]
  },
  {
   "cell_type": "code",
   "execution_count": 14,
   "id": "5df06a0b",
   "metadata": {},
   "outputs": [
    {
     "name": "stdout",
     "output_type": "stream",
     "text": [
      "<class 'pandas.core.frame.DataFrame'>\n",
      "RangeIndex: 1384617 entries, 0 to 1384616\n",
      "Data columns (total 4 columns):\n",
      " #   Column             Non-Null Count    Dtype\n",
      "---  ------             --------------    -----\n",
      " 0   order_id           1384617 non-null  int64\n",
      " 1   product_id         1384617 non-null  int64\n",
      " 2   add_to_cart_order  1384617 non-null  int64\n",
      " 3   reordered          1384617 non-null  int64\n",
      "dtypes: int64(4)\n",
      "memory usage: 42.3 MB\n"
     ]
    }
   ],
   "source": [
    "order_products_train=pd.read_csv(\"/Users/shivanireddy/Downloads/archive/order_products__train.csv\")\n",
    "order_products_train.info()"
   ]
  },
  {
   "cell_type": "code",
   "execution_count": 15,
   "id": "40c0831f",
   "metadata": {},
   "outputs": [],
   "source": [
    "# Concatenating the Prior and Train Datasets "
   ]
  },
  {
   "cell_type": "code",
   "execution_count": 16,
   "id": "66909afb",
   "metadata": {},
   "outputs": [],
   "source": [
    "df = pd.concat([order_products_prior,order_products_train],axis = 0)"
   ]
  },
  {
   "cell_type": "code",
   "execution_count": 17,
   "id": "085a6d6b",
   "metadata": {},
   "outputs": [
    {
     "data": {
      "text/html": [
       "<div>\n",
       "<style scoped>\n",
       "    .dataframe tbody tr th:only-of-type {\n",
       "        vertical-align: middle;\n",
       "    }\n",
       "\n",
       "    .dataframe tbody tr th {\n",
       "        vertical-align: top;\n",
       "    }\n",
       "\n",
       "    .dataframe thead th {\n",
       "        text-align: right;\n",
       "    }\n",
       "</style>\n",
       "<table border=\"1\" class=\"dataframe\">\n",
       "  <thead>\n",
       "    <tr style=\"text-align: right;\">\n",
       "      <th></th>\n",
       "      <th>order_id</th>\n",
       "      <th>product_id</th>\n",
       "      <th>add_to_cart_order</th>\n",
       "      <th>reordered</th>\n",
       "    </tr>\n",
       "  </thead>\n",
       "  <tbody>\n",
       "    <tr>\n",
       "      <th>0</th>\n",
       "      <td>2</td>\n",
       "      <td>33120</td>\n",
       "      <td>1</td>\n",
       "      <td>1</td>\n",
       "    </tr>\n",
       "    <tr>\n",
       "      <th>1</th>\n",
       "      <td>2</td>\n",
       "      <td>28985</td>\n",
       "      <td>2</td>\n",
       "      <td>1</td>\n",
       "    </tr>\n",
       "    <tr>\n",
       "      <th>2</th>\n",
       "      <td>2</td>\n",
       "      <td>9327</td>\n",
       "      <td>3</td>\n",
       "      <td>0</td>\n",
       "    </tr>\n",
       "    <tr>\n",
       "      <th>3</th>\n",
       "      <td>2</td>\n",
       "      <td>45918</td>\n",
       "      <td>4</td>\n",
       "      <td>1</td>\n",
       "    </tr>\n",
       "    <tr>\n",
       "      <th>4</th>\n",
       "      <td>2</td>\n",
       "      <td>30035</td>\n",
       "      <td>5</td>\n",
       "      <td>0</td>\n",
       "    </tr>\n",
       "    <tr>\n",
       "      <th>...</th>\n",
       "      <td>...</td>\n",
       "      <td>...</td>\n",
       "      <td>...</td>\n",
       "      <td>...</td>\n",
       "    </tr>\n",
       "    <tr>\n",
       "      <th>1384612</th>\n",
       "      <td>3421063</td>\n",
       "      <td>14233</td>\n",
       "      <td>3</td>\n",
       "      <td>1</td>\n",
       "    </tr>\n",
       "    <tr>\n",
       "      <th>1384613</th>\n",
       "      <td>3421063</td>\n",
       "      <td>35548</td>\n",
       "      <td>4</td>\n",
       "      <td>1</td>\n",
       "    </tr>\n",
       "    <tr>\n",
       "      <th>1384614</th>\n",
       "      <td>3421070</td>\n",
       "      <td>35951</td>\n",
       "      <td>1</td>\n",
       "      <td>1</td>\n",
       "    </tr>\n",
       "    <tr>\n",
       "      <th>1384615</th>\n",
       "      <td>3421070</td>\n",
       "      <td>16953</td>\n",
       "      <td>2</td>\n",
       "      <td>1</td>\n",
       "    </tr>\n",
       "    <tr>\n",
       "      <th>1384616</th>\n",
       "      <td>3421070</td>\n",
       "      <td>4724</td>\n",
       "      <td>3</td>\n",
       "      <td>1</td>\n",
       "    </tr>\n",
       "  </tbody>\n",
       "</table>\n",
       "<p>33819106 rows × 4 columns</p>\n",
       "</div>"
      ],
      "text/plain": [
       "         order_id  product_id  add_to_cart_order  reordered\n",
       "0               2       33120                  1          1\n",
       "1               2       28985                  2          1\n",
       "2               2        9327                  3          0\n",
       "3               2       45918                  4          1\n",
       "4               2       30035                  5          0\n",
       "...           ...         ...                ...        ...\n",
       "1384612   3421063       14233                  3          1\n",
       "1384613   3421063       35548                  4          1\n",
       "1384614   3421070       35951                  1          1\n",
       "1384615   3421070       16953                  2          1\n",
       "1384616   3421070        4724                  3          1\n",
       "\n",
       "[33819106 rows x 4 columns]"
      ]
     },
     "execution_count": 17,
     "metadata": {},
     "output_type": "execute_result"
    }
   ],
   "source": [
    "df"
   ]
  },
  {
   "cell_type": "code",
   "execution_count": 18,
   "id": "1b04c87f",
   "metadata": {},
   "outputs": [
    {
     "data": {
      "text/plain": [
       "order_id             33819106\n",
       "product_id           33819106\n",
       "add_to_cart_order    33819106\n",
       "reordered            33819106\n",
       "dtype: int64"
      ]
     },
     "execution_count": 18,
     "metadata": {},
     "output_type": "execute_result"
    }
   ],
   "source": [
    "df.count()"
   ]
  },
  {
   "cell_type": "code",
   "execution_count": 19,
   "id": "9bc40228",
   "metadata": {},
   "outputs": [
    {
     "data": {
      "text/plain": [
       "prior    3214874\n",
       "train     131209\n",
       "test       75000\n",
       "Name: eval_set, dtype: int64"
      ]
     },
     "execution_count": 19,
     "metadata": {},
     "output_type": "execute_result"
    }
   ],
   "source": [
    "## To understand the types of values in the orders dataset\n",
    "orders['eval_set'].value_counts()"
   ]
  },
  {
   "cell_type": "code",
   "execution_count": 22,
   "id": "8e9d0517",
   "metadata": {},
   "outputs": [],
   "source": [
    "### Since the evaluation set column has three values, and we have the prior and train datasets, we will consider only those two values from the evaluation set column."
   ]
  },
  {
   "cell_type": "code",
   "execution_count": 23,
   "id": "871e0064",
   "metadata": {},
   "outputs": [],
   "source": [
    "# Merging the datasets"
   ]
  },
  {
   "cell_type": "code",
   "execution_count": 24,
   "id": "a94f7806",
   "metadata": {},
   "outputs": [],
   "source": [
    "df_new = df.merge(products, how = 'inner', on = 'product_id')"
   ]
  },
  {
   "cell_type": "code",
   "execution_count": 25,
   "id": "25e502f7",
   "metadata": {},
   "outputs": [
    {
     "data": {
      "text/plain": [
       "order_id             33819106\n",
       "product_id           33819106\n",
       "add_to_cart_order    33819106\n",
       "reordered            33819106\n",
       "product_name         33819106\n",
       "aisle_id             33819106\n",
       "department_id        33819106\n",
       "is_organic           33819106\n",
       "dtype: int64"
      ]
     },
     "execution_count": 25,
     "metadata": {},
     "output_type": "execute_result"
    }
   ],
   "source": [
    "df_new.count()"
   ]
  },
  {
   "cell_type": "code",
   "execution_count": 26,
   "id": "49efd073",
   "metadata": {},
   "outputs": [
    {
     "data": {
      "text/plain": [
       "order_id             0\n",
       "product_id           0\n",
       "add_to_cart_order    0\n",
       "reordered            0\n",
       "product_name         0\n",
       "aisle_id             0\n",
       "department_id        0\n",
       "is_organic           0\n",
       "dtype: int64"
      ]
     },
     "execution_count": 26,
     "metadata": {},
     "output_type": "execute_result"
    }
   ],
   "source": [
    "df_new.isna().sum()"
   ]
  },
  {
   "cell_type": "code",
   "execution_count": 27,
   "id": "2e8f4400",
   "metadata": {},
   "outputs": [
    {
     "data": {
      "text/html": [
       "<div>\n",
       "<style scoped>\n",
       "    .dataframe tbody tr th:only-of-type {\n",
       "        vertical-align: middle;\n",
       "    }\n",
       "\n",
       "    .dataframe tbody tr th {\n",
       "        vertical-align: top;\n",
       "    }\n",
       "\n",
       "    .dataframe thead th {\n",
       "        text-align: right;\n",
       "    }\n",
       "</style>\n",
       "<table border=\"1\" class=\"dataframe\">\n",
       "  <thead>\n",
       "    <tr style=\"text-align: right;\">\n",
       "      <th></th>\n",
       "      <th>order_id</th>\n",
       "      <th>product_id</th>\n",
       "      <th>add_to_cart_order</th>\n",
       "      <th>reordered</th>\n",
       "      <th>product_name</th>\n",
       "      <th>aisle_id</th>\n",
       "      <th>department_id</th>\n",
       "      <th>is_organic</th>\n",
       "    </tr>\n",
       "  </thead>\n",
       "  <tbody>\n",
       "    <tr>\n",
       "      <th>4595800</th>\n",
       "      <td>3421070</td>\n",
       "      <td>35951</td>\n",
       "      <td>1</td>\n",
       "      <td>1</td>\n",
       "      <td>Organic Unsweetened Almond Milk</td>\n",
       "      <td>91</td>\n",
       "      <td>16</td>\n",
       "      <td>True</td>\n",
       "    </tr>\n",
       "    <tr>\n",
       "      <th>10808227</th>\n",
       "      <td>3421070</td>\n",
       "      <td>16953</td>\n",
       "      <td>2</td>\n",
       "      <td>1</td>\n",
       "      <td>Creamy Peanut Butter</td>\n",
       "      <td>88</td>\n",
       "      <td>13</td>\n",
       "      <td>False</td>\n",
       "    </tr>\n",
       "    <tr>\n",
       "      <th>19831040</th>\n",
       "      <td>3421070</td>\n",
       "      <td>4724</td>\n",
       "      <td>3</td>\n",
       "      <td>1</td>\n",
       "      <td>Broccoli Florettes</td>\n",
       "      <td>32</td>\n",
       "      <td>4</td>\n",
       "      <td>False</td>\n",
       "    </tr>\n",
       "  </tbody>\n",
       "</table>\n",
       "</div>"
      ],
      "text/plain": [
       "          order_id  product_id  add_to_cart_order  reordered  \\\n",
       "4595800    3421070       35951                  1          1   \n",
       "10808227   3421070       16953                  2          1   \n",
       "19831040   3421070        4724                  3          1   \n",
       "\n",
       "                             product_name  aisle_id  department_id  is_organic  \n",
       "4595800   Organic Unsweetened Almond Milk        91             16        True  \n",
       "10808227             Creamy Peanut Butter        88             13       False  \n",
       "19831040               Broccoli Florettes        32              4       False  "
      ]
     },
     "execution_count": 27,
     "metadata": {},
     "output_type": "execute_result"
    }
   ],
   "source": [
    "df_new[df_new['order_id']==3421070]"
   ]
  },
  {
   "cell_type": "code",
   "execution_count": 28,
   "id": "bc4c8ead",
   "metadata": {},
   "outputs": [
    {
     "data": {
      "text/html": [
       "<div>\n",
       "<style scoped>\n",
       "    .dataframe tbody tr th:only-of-type {\n",
       "        vertical-align: middle;\n",
       "    }\n",
       "\n",
       "    .dataframe tbody tr th {\n",
       "        vertical-align: top;\n",
       "    }\n",
       "\n",
       "    .dataframe thead th {\n",
       "        text-align: right;\n",
       "    }\n",
       "</style>\n",
       "<table border=\"1\" class=\"dataframe\">\n",
       "  <thead>\n",
       "    <tr style=\"text-align: right;\">\n",
       "      <th></th>\n",
       "      <th>order_id</th>\n",
       "      <th>product_id</th>\n",
       "      <th>add_to_cart_order</th>\n",
       "      <th>reordered</th>\n",
       "      <th>product_name</th>\n",
       "      <th>aisle_id</th>\n",
       "      <th>department_id</th>\n",
       "      <th>is_organic</th>\n",
       "    </tr>\n",
       "  </thead>\n",
       "  <tbody>\n",
       "    <tr>\n",
       "      <th>33289766</th>\n",
       "      <td>57903</td>\n",
       "      <td>42</td>\n",
       "      <td>21</td>\n",
       "      <td>0</td>\n",
       "      <td>Biotin 1000 mcg</td>\n",
       "      <td>47</td>\n",
       "      <td>11</td>\n",
       "      <td>False</td>\n",
       "    </tr>\n",
       "    <tr>\n",
       "      <th>33289767</th>\n",
       "      <td>177189</td>\n",
       "      <td>42</td>\n",
       "      <td>4</td>\n",
       "      <td>0</td>\n",
       "      <td>Biotin 1000 mcg</td>\n",
       "      <td>47</td>\n",
       "      <td>11</td>\n",
       "      <td>False</td>\n",
       "    </tr>\n",
       "    <tr>\n",
       "      <th>33289768</th>\n",
       "      <td>292672</td>\n",
       "      <td>42</td>\n",
       "      <td>5</td>\n",
       "      <td>0</td>\n",
       "      <td>Biotin 1000 mcg</td>\n",
       "      <td>47</td>\n",
       "      <td>11</td>\n",
       "      <td>False</td>\n",
       "    </tr>\n",
       "    <tr>\n",
       "      <th>33289769</th>\n",
       "      <td>611135</td>\n",
       "      <td>42</td>\n",
       "      <td>7</td>\n",
       "      <td>1</td>\n",
       "      <td>Biotin 1000 mcg</td>\n",
       "      <td>47</td>\n",
       "      <td>11</td>\n",
       "      <td>False</td>\n",
       "    </tr>\n",
       "    <tr>\n",
       "      <th>33289770</th>\n",
       "      <td>735753</td>\n",
       "      <td>42</td>\n",
       "      <td>1</td>\n",
       "      <td>0</td>\n",
       "      <td>Biotin 1000 mcg</td>\n",
       "      <td>47</td>\n",
       "      <td>11</td>\n",
       "      <td>False</td>\n",
       "    </tr>\n",
       "    <tr>\n",
       "      <th>33289771</th>\n",
       "      <td>886885</td>\n",
       "      <td>42</td>\n",
       "      <td>1</td>\n",
       "      <td>0</td>\n",
       "      <td>Biotin 1000 mcg</td>\n",
       "      <td>47</td>\n",
       "      <td>11</td>\n",
       "      <td>False</td>\n",
       "    </tr>\n",
       "    <tr>\n",
       "      <th>33289772</th>\n",
       "      <td>1011195</td>\n",
       "      <td>42</td>\n",
       "      <td>7</td>\n",
       "      <td>0</td>\n",
       "      <td>Biotin 1000 mcg</td>\n",
       "      <td>47</td>\n",
       "      <td>11</td>\n",
       "      <td>False</td>\n",
       "    </tr>\n",
       "    <tr>\n",
       "      <th>33289773</th>\n",
       "      <td>1140376</td>\n",
       "      <td>42</td>\n",
       "      <td>2</td>\n",
       "      <td>0</td>\n",
       "      <td>Biotin 1000 mcg</td>\n",
       "      <td>47</td>\n",
       "      <td>11</td>\n",
       "      <td>False</td>\n",
       "    </tr>\n",
       "    <tr>\n",
       "      <th>33289774</th>\n",
       "      <td>1517003</td>\n",
       "      <td>42</td>\n",
       "      <td>56</td>\n",
       "      <td>0</td>\n",
       "      <td>Biotin 1000 mcg</td>\n",
       "      <td>47</td>\n",
       "      <td>11</td>\n",
       "      <td>False</td>\n",
       "    </tr>\n",
       "    <tr>\n",
       "      <th>33289775</th>\n",
       "      <td>1975795</td>\n",
       "      <td>42</td>\n",
       "      <td>6</td>\n",
       "      <td>0</td>\n",
       "      <td>Biotin 1000 mcg</td>\n",
       "      <td>47</td>\n",
       "      <td>11</td>\n",
       "      <td>False</td>\n",
       "    </tr>\n",
       "    <tr>\n",
       "      <th>33289776</th>\n",
       "      <td>2468906</td>\n",
       "      <td>42</td>\n",
       "      <td>1</td>\n",
       "      <td>0</td>\n",
       "      <td>Biotin 1000 mcg</td>\n",
       "      <td>47</td>\n",
       "      <td>11</td>\n",
       "      <td>False</td>\n",
       "    </tr>\n",
       "    <tr>\n",
       "      <th>33289777</th>\n",
       "      <td>3049362</td>\n",
       "      <td>42</td>\n",
       "      <td>5</td>\n",
       "      <td>0</td>\n",
       "      <td>Biotin 1000 mcg</td>\n",
       "      <td>47</td>\n",
       "      <td>11</td>\n",
       "      <td>False</td>\n",
       "    </tr>\n",
       "    <tr>\n",
       "      <th>33289778</th>\n",
       "      <td>3291548</td>\n",
       "      <td>42</td>\n",
       "      <td>16</td>\n",
       "      <td>0</td>\n",
       "      <td>Biotin 1000 mcg</td>\n",
       "      <td>47</td>\n",
       "      <td>11</td>\n",
       "      <td>False</td>\n",
       "    </tr>\n",
       "    <tr>\n",
       "      <th>33289779</th>\n",
       "      <td>580747</td>\n",
       "      <td>42</td>\n",
       "      <td>17</td>\n",
       "      <td>0</td>\n",
       "      <td>Biotin 1000 mcg</td>\n",
       "      <td>47</td>\n",
       "      <td>11</td>\n",
       "      <td>False</td>\n",
       "    </tr>\n",
       "  </tbody>\n",
       "</table>\n",
       "</div>"
      ],
      "text/plain": [
       "          order_id  product_id  add_to_cart_order  reordered     product_name  \\\n",
       "33289766     57903          42                 21          0  Biotin 1000 mcg   \n",
       "33289767    177189          42                  4          0  Biotin 1000 mcg   \n",
       "33289768    292672          42                  5          0  Biotin 1000 mcg   \n",
       "33289769    611135          42                  7          1  Biotin 1000 mcg   \n",
       "33289770    735753          42                  1          0  Biotin 1000 mcg   \n",
       "33289771    886885          42                  1          0  Biotin 1000 mcg   \n",
       "33289772   1011195          42                  7          0  Biotin 1000 mcg   \n",
       "33289773   1140376          42                  2          0  Biotin 1000 mcg   \n",
       "33289774   1517003          42                 56          0  Biotin 1000 mcg   \n",
       "33289775   1975795          42                  6          0  Biotin 1000 mcg   \n",
       "33289776   2468906          42                  1          0  Biotin 1000 mcg   \n",
       "33289777   3049362          42                  5          0  Biotin 1000 mcg   \n",
       "33289778   3291548          42                 16          0  Biotin 1000 mcg   \n",
       "33289779    580747          42                 17          0  Biotin 1000 mcg   \n",
       "\n",
       "          aisle_id  department_id  is_organic  \n",
       "33289766        47             11       False  \n",
       "33289767        47             11       False  \n",
       "33289768        47             11       False  \n",
       "33289769        47             11       False  \n",
       "33289770        47             11       False  \n",
       "33289771        47             11       False  \n",
       "33289772        47             11       False  \n",
       "33289773        47             11       False  \n",
       "33289774        47             11       False  \n",
       "33289775        47             11       False  \n",
       "33289776        47             11       False  \n",
       "33289777        47             11       False  \n",
       "33289778        47             11       False  \n",
       "33289779        47             11       False  "
      ]
     },
     "execution_count": 28,
     "metadata": {},
     "output_type": "execute_result"
    }
   ],
   "source": [
    "df_new[df_new['product_name']=='Biotin 1000 mcg']"
   ]
  },
  {
   "cell_type": "code",
   "execution_count": 30,
   "id": "da0f5436",
   "metadata": {},
   "outputs": [],
   "source": [
    "df_new=df_new.merge(aisles, on = 'aisle_id')"
   ]
  },
  {
   "cell_type": "code",
   "execution_count": 31,
   "id": "fb2201a8",
   "metadata": {},
   "outputs": [
    {
     "data": {
      "text/html": [
       "<div>\n",
       "<style scoped>\n",
       "    .dataframe tbody tr th:only-of-type {\n",
       "        vertical-align: middle;\n",
       "    }\n",
       "\n",
       "    .dataframe tbody tr th {\n",
       "        vertical-align: top;\n",
       "    }\n",
       "\n",
       "    .dataframe thead th {\n",
       "        text-align: right;\n",
       "    }\n",
       "</style>\n",
       "<table border=\"1\" class=\"dataframe\">\n",
       "  <thead>\n",
       "    <tr style=\"text-align: right;\">\n",
       "      <th></th>\n",
       "      <th>order_id</th>\n",
       "      <th>product_id</th>\n",
       "      <th>add_to_cart_order</th>\n",
       "      <th>reordered</th>\n",
       "      <th>product_name</th>\n",
       "      <th>aisle_id</th>\n",
       "      <th>department_id</th>\n",
       "      <th>is_organic</th>\n",
       "      <th>aisle_x</th>\n",
       "      <th>aisle_y</th>\n",
       "    </tr>\n",
       "  </thead>\n",
       "  <tbody>\n",
       "    <tr>\n",
       "      <th>0</th>\n",
       "      <td>2</td>\n",
       "      <td>33120</td>\n",
       "      <td>1</td>\n",
       "      <td>1</td>\n",
       "      <td>Organic Egg Whites</td>\n",
       "      <td>86</td>\n",
       "      <td>16</td>\n",
       "      <td>True</td>\n",
       "      <td>eggs</td>\n",
       "      <td>eggs</td>\n",
       "    </tr>\n",
       "    <tr>\n",
       "      <th>1</th>\n",
       "      <td>26</td>\n",
       "      <td>33120</td>\n",
       "      <td>5</td>\n",
       "      <td>0</td>\n",
       "      <td>Organic Egg Whites</td>\n",
       "      <td>86</td>\n",
       "      <td>16</td>\n",
       "      <td>True</td>\n",
       "      <td>eggs</td>\n",
       "      <td>eggs</td>\n",
       "    </tr>\n",
       "    <tr>\n",
       "      <th>2</th>\n",
       "      <td>120</td>\n",
       "      <td>33120</td>\n",
       "      <td>13</td>\n",
       "      <td>0</td>\n",
       "      <td>Organic Egg Whites</td>\n",
       "      <td>86</td>\n",
       "      <td>16</td>\n",
       "      <td>True</td>\n",
       "      <td>eggs</td>\n",
       "      <td>eggs</td>\n",
       "    </tr>\n",
       "    <tr>\n",
       "      <th>3</th>\n",
       "      <td>327</td>\n",
       "      <td>33120</td>\n",
       "      <td>5</td>\n",
       "      <td>1</td>\n",
       "      <td>Organic Egg Whites</td>\n",
       "      <td>86</td>\n",
       "      <td>16</td>\n",
       "      <td>True</td>\n",
       "      <td>eggs</td>\n",
       "      <td>eggs</td>\n",
       "    </tr>\n",
       "    <tr>\n",
       "      <th>4</th>\n",
       "      <td>390</td>\n",
       "      <td>33120</td>\n",
       "      <td>28</td>\n",
       "      <td>1</td>\n",
       "      <td>Organic Egg Whites</td>\n",
       "      <td>86</td>\n",
       "      <td>16</td>\n",
       "      <td>True</td>\n",
       "      <td>eggs</td>\n",
       "      <td>eggs</td>\n",
       "    </tr>\n",
       "  </tbody>\n",
       "</table>\n",
       "</div>"
      ],
      "text/plain": [
       "   order_id  product_id  add_to_cart_order  reordered        product_name  \\\n",
       "0         2       33120                  1          1  Organic Egg Whites   \n",
       "1        26       33120                  5          0  Organic Egg Whites   \n",
       "2       120       33120                 13          0  Organic Egg Whites   \n",
       "3       327       33120                  5          1  Organic Egg Whites   \n",
       "4       390       33120                 28          1  Organic Egg Whites   \n",
       "\n",
       "   aisle_id  department_id  is_organic aisle_x aisle_y  \n",
       "0        86             16        True    eggs    eggs  \n",
       "1        86             16        True    eggs    eggs  \n",
       "2        86             16        True    eggs    eggs  \n",
       "3        86             16        True    eggs    eggs  \n",
       "4        86             16        True    eggs    eggs  "
      ]
     },
     "execution_count": 31,
     "metadata": {},
     "output_type": "execute_result"
    }
   ],
   "source": [
    "df_new.head()"
   ]
  },
  {
   "cell_type": "code",
   "execution_count": 32,
   "id": "1f88bbe7",
   "metadata": {},
   "outputs": [],
   "source": [
    "df_new=df_new.merge(departments, on = 'department_id')"
   ]
  },
  {
   "cell_type": "code",
   "execution_count": 33,
   "id": "9b2e54bd",
   "metadata": {},
   "outputs": [
    {
     "data": {
      "text/html": [
       "<div>\n",
       "<style scoped>\n",
       "    .dataframe tbody tr th:only-of-type {\n",
       "        vertical-align: middle;\n",
       "    }\n",
       "\n",
       "    .dataframe tbody tr th {\n",
       "        vertical-align: top;\n",
       "    }\n",
       "\n",
       "    .dataframe thead th {\n",
       "        text-align: right;\n",
       "    }\n",
       "</style>\n",
       "<table border=\"1\" class=\"dataframe\">\n",
       "  <thead>\n",
       "    <tr style=\"text-align: right;\">\n",
       "      <th></th>\n",
       "      <th>order_id</th>\n",
       "      <th>product_id</th>\n",
       "      <th>add_to_cart_order</th>\n",
       "      <th>reordered</th>\n",
       "      <th>product_name</th>\n",
       "      <th>aisle_id</th>\n",
       "      <th>department_id</th>\n",
       "      <th>is_organic</th>\n",
       "      <th>aisle_x</th>\n",
       "      <th>aisle_y</th>\n",
       "      <th>department</th>\n",
       "    </tr>\n",
       "  </thead>\n",
       "  <tbody>\n",
       "    <tr>\n",
       "      <th>0</th>\n",
       "      <td>2</td>\n",
       "      <td>33120</td>\n",
       "      <td>1</td>\n",
       "      <td>1</td>\n",
       "      <td>Organic Egg Whites</td>\n",
       "      <td>86</td>\n",
       "      <td>16</td>\n",
       "      <td>True</td>\n",
       "      <td>eggs</td>\n",
       "      <td>eggs</td>\n",
       "      <td>dairy eggs</td>\n",
       "    </tr>\n",
       "    <tr>\n",
       "      <th>1</th>\n",
       "      <td>26</td>\n",
       "      <td>33120</td>\n",
       "      <td>5</td>\n",
       "      <td>0</td>\n",
       "      <td>Organic Egg Whites</td>\n",
       "      <td>86</td>\n",
       "      <td>16</td>\n",
       "      <td>True</td>\n",
       "      <td>eggs</td>\n",
       "      <td>eggs</td>\n",
       "      <td>dairy eggs</td>\n",
       "    </tr>\n",
       "    <tr>\n",
       "      <th>2</th>\n",
       "      <td>120</td>\n",
       "      <td>33120</td>\n",
       "      <td>13</td>\n",
       "      <td>0</td>\n",
       "      <td>Organic Egg Whites</td>\n",
       "      <td>86</td>\n",
       "      <td>16</td>\n",
       "      <td>True</td>\n",
       "      <td>eggs</td>\n",
       "      <td>eggs</td>\n",
       "      <td>dairy eggs</td>\n",
       "    </tr>\n",
       "    <tr>\n",
       "      <th>3</th>\n",
       "      <td>327</td>\n",
       "      <td>33120</td>\n",
       "      <td>5</td>\n",
       "      <td>1</td>\n",
       "      <td>Organic Egg Whites</td>\n",
       "      <td>86</td>\n",
       "      <td>16</td>\n",
       "      <td>True</td>\n",
       "      <td>eggs</td>\n",
       "      <td>eggs</td>\n",
       "      <td>dairy eggs</td>\n",
       "    </tr>\n",
       "    <tr>\n",
       "      <th>4</th>\n",
       "      <td>390</td>\n",
       "      <td>33120</td>\n",
       "      <td>28</td>\n",
       "      <td>1</td>\n",
       "      <td>Organic Egg Whites</td>\n",
       "      <td>86</td>\n",
       "      <td>16</td>\n",
       "      <td>True</td>\n",
       "      <td>eggs</td>\n",
       "      <td>eggs</td>\n",
       "      <td>dairy eggs</td>\n",
       "    </tr>\n",
       "  </tbody>\n",
       "</table>\n",
       "</div>"
      ],
      "text/plain": [
       "   order_id  product_id  add_to_cart_order  reordered        product_name  \\\n",
       "0         2       33120                  1          1  Organic Egg Whites   \n",
       "1        26       33120                  5          0  Organic Egg Whites   \n",
       "2       120       33120                 13          0  Organic Egg Whites   \n",
       "3       327       33120                  5          1  Organic Egg Whites   \n",
       "4       390       33120                 28          1  Organic Egg Whites   \n",
       "\n",
       "   aisle_id  department_id  is_organic aisle_x aisle_y  department  \n",
       "0        86             16        True    eggs    eggs  dairy eggs  \n",
       "1        86             16        True    eggs    eggs  dairy eggs  \n",
       "2        86             16        True    eggs    eggs  dairy eggs  \n",
       "3        86             16        True    eggs    eggs  dairy eggs  \n",
       "4        86             16        True    eggs    eggs  dairy eggs  "
      ]
     },
     "execution_count": 33,
     "metadata": {},
     "output_type": "execute_result"
    }
   ],
   "source": [
    "df_new.head()"
   ]
  },
  {
   "cell_type": "code",
   "execution_count": 34,
   "id": "eda281fd",
   "metadata": {},
   "outputs": [],
   "source": [
    "df_new=df_new.merge(orders, on = 'order_id')"
   ]
  },
  {
   "cell_type": "code",
   "execution_count": 35,
   "id": "bf23ebc8",
   "metadata": {},
   "outputs": [
    {
     "data": {
      "text/html": [
       "<div>\n",
       "<style scoped>\n",
       "    .dataframe tbody tr th:only-of-type {\n",
       "        vertical-align: middle;\n",
       "    }\n",
       "\n",
       "    .dataframe tbody tr th {\n",
       "        vertical-align: top;\n",
       "    }\n",
       "\n",
       "    .dataframe thead th {\n",
       "        text-align: right;\n",
       "    }\n",
       "</style>\n",
       "<table border=\"1\" class=\"dataframe\">\n",
       "  <thead>\n",
       "    <tr style=\"text-align: right;\">\n",
       "      <th></th>\n",
       "      <th>order_id</th>\n",
       "      <th>product_id</th>\n",
       "      <th>add_to_cart_order</th>\n",
       "      <th>reordered</th>\n",
       "      <th>product_name</th>\n",
       "      <th>aisle_id</th>\n",
       "      <th>department_id</th>\n",
       "      <th>is_organic</th>\n",
       "      <th>aisle_x</th>\n",
       "      <th>aisle_y</th>\n",
       "      <th>department</th>\n",
       "      <th>user_id</th>\n",
       "      <th>eval_set</th>\n",
       "      <th>order_number</th>\n",
       "      <th>order_dow</th>\n",
       "      <th>order_hour_of_day</th>\n",
       "      <th>days_since_prior_order</th>\n",
       "    </tr>\n",
       "  </thead>\n",
       "  <tbody>\n",
       "    <tr>\n",
       "      <th>0</th>\n",
       "      <td>2</td>\n",
       "      <td>33120</td>\n",
       "      <td>1</td>\n",
       "      <td>1</td>\n",
       "      <td>Organic Egg Whites</td>\n",
       "      <td>86</td>\n",
       "      <td>16</td>\n",
       "      <td>True</td>\n",
       "      <td>eggs</td>\n",
       "      <td>eggs</td>\n",
       "      <td>dairy eggs</td>\n",
       "      <td>202279</td>\n",
       "      <td>prior</td>\n",
       "      <td>3</td>\n",
       "      <td>5</td>\n",
       "      <td>9</td>\n",
       "      <td>8.0</td>\n",
       "    </tr>\n",
       "    <tr>\n",
       "      <th>1</th>\n",
       "      <td>2</td>\n",
       "      <td>28985</td>\n",
       "      <td>2</td>\n",
       "      <td>1</td>\n",
       "      <td>Michigan Organic Kale</td>\n",
       "      <td>83</td>\n",
       "      <td>4</td>\n",
       "      <td>True</td>\n",
       "      <td>fresh vegetables</td>\n",
       "      <td>fresh vegetables</td>\n",
       "      <td>produce</td>\n",
       "      <td>202279</td>\n",
       "      <td>prior</td>\n",
       "      <td>3</td>\n",
       "      <td>5</td>\n",
       "      <td>9</td>\n",
       "      <td>8.0</td>\n",
       "    </tr>\n",
       "    <tr>\n",
       "      <th>2</th>\n",
       "      <td>2</td>\n",
       "      <td>17794</td>\n",
       "      <td>6</td>\n",
       "      <td>1</td>\n",
       "      <td>Carrots</td>\n",
       "      <td>83</td>\n",
       "      <td>4</td>\n",
       "      <td>False</td>\n",
       "      <td>fresh vegetables</td>\n",
       "      <td>fresh vegetables</td>\n",
       "      <td>produce</td>\n",
       "      <td>202279</td>\n",
       "      <td>prior</td>\n",
       "      <td>3</td>\n",
       "      <td>5</td>\n",
       "      <td>9</td>\n",
       "      <td>8.0</td>\n",
       "    </tr>\n",
       "    <tr>\n",
       "      <th>3</th>\n",
       "      <td>2</td>\n",
       "      <td>43668</td>\n",
       "      <td>9</td>\n",
       "      <td>0</td>\n",
       "      <td>Classic Blend Cole Slaw</td>\n",
       "      <td>123</td>\n",
       "      <td>4</td>\n",
       "      <td>False</td>\n",
       "      <td>packaged vegetables fruits</td>\n",
       "      <td>packaged vegetables fruits</td>\n",
       "      <td>produce</td>\n",
       "      <td>202279</td>\n",
       "      <td>prior</td>\n",
       "      <td>3</td>\n",
       "      <td>5</td>\n",
       "      <td>9</td>\n",
       "      <td>8.0</td>\n",
       "    </tr>\n",
       "    <tr>\n",
       "      <th>4</th>\n",
       "      <td>2</td>\n",
       "      <td>9327</td>\n",
       "      <td>3</td>\n",
       "      <td>0</td>\n",
       "      <td>Garlic Powder</td>\n",
       "      <td>104</td>\n",
       "      <td>13</td>\n",
       "      <td>False</td>\n",
       "      <td>spices seasonings</td>\n",
       "      <td>spices seasonings</td>\n",
       "      <td>pantry</td>\n",
       "      <td>202279</td>\n",
       "      <td>prior</td>\n",
       "      <td>3</td>\n",
       "      <td>5</td>\n",
       "      <td>9</td>\n",
       "      <td>8.0</td>\n",
       "    </tr>\n",
       "  </tbody>\n",
       "</table>\n",
       "</div>"
      ],
      "text/plain": [
       "   order_id  product_id  add_to_cart_order  reordered  \\\n",
       "0         2       33120                  1          1   \n",
       "1         2       28985                  2          1   \n",
       "2         2       17794                  6          1   \n",
       "3         2       43668                  9          0   \n",
       "4         2        9327                  3          0   \n",
       "\n",
       "              product_name  aisle_id  department_id  is_organic  \\\n",
       "0       Organic Egg Whites        86             16        True   \n",
       "1    Michigan Organic Kale        83              4        True   \n",
       "2                  Carrots        83              4       False   \n",
       "3  Classic Blend Cole Slaw       123              4       False   \n",
       "4            Garlic Powder       104             13       False   \n",
       "\n",
       "                      aisle_x                     aisle_y  department  \\\n",
       "0                        eggs                        eggs  dairy eggs   \n",
       "1            fresh vegetables            fresh vegetables     produce   \n",
       "2            fresh vegetables            fresh vegetables     produce   \n",
       "3  packaged vegetables fruits  packaged vegetables fruits     produce   \n",
       "4           spices seasonings           spices seasonings      pantry   \n",
       "\n",
       "   user_id eval_set  order_number  order_dow  order_hour_of_day  \\\n",
       "0   202279    prior             3          5                  9   \n",
       "1   202279    prior             3          5                  9   \n",
       "2   202279    prior             3          5                  9   \n",
       "3   202279    prior             3          5                  9   \n",
       "4   202279    prior             3          5                  9   \n",
       "\n",
       "   days_since_prior_order  \n",
       "0                     8.0  \n",
       "1                     8.0  \n",
       "2                     8.0  \n",
       "3                     8.0  \n",
       "4                     8.0  "
      ]
     },
     "execution_count": 35,
     "metadata": {},
     "output_type": "execute_result"
    }
   ],
   "source": [
    "df_new.head()"
   ]
  },
  {
   "cell_type": "code",
   "execution_count": 36,
   "id": "f842d209",
   "metadata": {},
   "outputs": [
    {
     "data": {
      "text/plain": [
       "206209"
      ]
     },
     "execution_count": 36,
     "metadata": {},
     "output_type": "execute_result"
    }
   ],
   "source": [
    "df_new['user_id'].max()"
   ]
  },
  {
   "cell_type": "code",
   "execution_count": 37,
   "id": "ea5de809",
   "metadata": {},
   "outputs": [
    {
     "data": {
      "text/plain": [
       "prior    32434489\n",
       "train     1384617\n",
       "Name: eval_set, dtype: int64"
      ]
     },
     "execution_count": 37,
     "metadata": {},
     "output_type": "execute_result"
    }
   ],
   "source": [
    "df_new['eval_set'].value_counts()"
   ]
  },
  {
   "cell_type": "code",
   "execution_count": 38,
   "id": "42e58cc4",
   "metadata": {},
   "outputs": [
    {
     "data": {
      "text/plain": [
       "Index(['order_id', 'product_id', 'add_to_cart_order', 'reordered',\n",
       "       'product_name', 'aisle_id', 'department_id', 'is_organic', 'aisle_x',\n",
       "       'aisle_y', 'department', 'user_id', 'eval_set', 'order_number',\n",
       "       'order_dow', 'order_hour_of_day', 'days_since_prior_order'],\n",
       "      dtype='object')"
      ]
     },
     "execution_count": 38,
     "metadata": {},
     "output_type": "execute_result"
    }
   ],
   "source": [
    "df_new.columns"
   ]
  },
  {
   "cell_type": "code",
   "execution_count": 39,
   "id": "3ed32426",
   "metadata": {},
   "outputs": [
    {
     "data": {
      "text/plain": [
       "(33819106, 17)"
      ]
     },
     "execution_count": 39,
     "metadata": {},
     "output_type": "execute_result"
    }
   ],
   "source": [
    "df_new.shape"
   ]
  },
  {
   "cell_type": "code",
   "execution_count": 40,
   "id": "aee63fb9",
   "metadata": {},
   "outputs": [
    {
     "data": {
      "text/plain": [
       "order_id                        0\n",
       "product_id                      0\n",
       "add_to_cart_order               0\n",
       "reordered                       0\n",
       "product_name                    0\n",
       "aisle_id                        0\n",
       "department_id                   0\n",
       "is_organic                      0\n",
       "aisle_x                         0\n",
       "aisle_y                         0\n",
       "department                      0\n",
       "user_id                         0\n",
       "eval_set                        0\n",
       "order_number                    0\n",
       "order_dow                       0\n",
       "order_hour_of_day               0\n",
       "days_since_prior_order    2078068\n",
       "dtype: int64"
      ]
     },
     "execution_count": 40,
     "metadata": {},
     "output_type": "execute_result"
    }
   ],
   "source": [
    "df_new.isna().sum()"
   ]
  },
  {
   "cell_type": "code",
   "execution_count": 41,
   "id": "31700ffd",
   "metadata": {},
   "outputs": [
    {
     "data": {
      "text/plain": [
       "order_id                    int64\n",
       "product_id                  int64\n",
       "add_to_cart_order           int64\n",
       "reordered                   int64\n",
       "product_name               object\n",
       "aisle_id                    int64\n",
       "department_id               int64\n",
       "is_organic                   bool\n",
       "aisle_x                    object\n",
       "aisle_y                    object\n",
       "department                 object\n",
       "user_id                     int64\n",
       "eval_set                   object\n",
       "order_number                int64\n",
       "order_dow                   int64\n",
       "order_hour_of_day           int64\n",
       "days_since_prior_order    float64\n",
       "dtype: object"
      ]
     },
     "execution_count": 41,
     "metadata": {},
     "output_type": "execute_result"
    }
   ],
   "source": [
    "df_new.dtypes"
   ]
  },
  {
   "cell_type": "code",
   "execution_count": 42,
   "id": "78d48e9a",
   "metadata": {},
   "outputs": [],
   "source": [
    "## After conducting the preceding study, a CSV file for groceries has been created."
   ]
  },
  {
   "cell_type": "code",
   "execution_count": 46,
   "id": "58661916",
   "metadata": {},
   "outputs": [],
   "source": [
    "df_new.to_csv(\"/Users/shivanireddy/Downloads/archive/groceries.csv\", index=False)"
   ]
  },
  {
   "cell_type": "code",
   "execution_count": 50,
   "id": "7d890b9d",
   "metadata": {},
   "outputs": [
    {
     "data": {
      "text/html": [
       "<div>\n",
       "<style scoped>\n",
       "    .dataframe tbody tr th:only-of-type {\n",
       "        vertical-align: middle;\n",
       "    }\n",
       "\n",
       "    .dataframe tbody tr th {\n",
       "        vertical-align: top;\n",
       "    }\n",
       "\n",
       "    .dataframe thead th {\n",
       "        text-align: right;\n",
       "    }\n",
       "</style>\n",
       "<table border=\"1\" class=\"dataframe\">\n",
       "  <thead>\n",
       "    <tr style=\"text-align: right;\">\n",
       "      <th></th>\n",
       "      <th>order_id</th>\n",
       "      <th>product_id</th>\n",
       "      <th>add_to_cart_order</th>\n",
       "      <th>reordered</th>\n",
       "    </tr>\n",
       "  </thead>\n",
       "  <tbody>\n",
       "    <tr>\n",
       "      <th>0</th>\n",
       "      <td>2</td>\n",
       "      <td>33120</td>\n",
       "      <td>1</td>\n",
       "      <td>1</td>\n",
       "    </tr>\n",
       "    <tr>\n",
       "      <th>1</th>\n",
       "      <td>2</td>\n",
       "      <td>28985</td>\n",
       "      <td>2</td>\n",
       "      <td>1</td>\n",
       "    </tr>\n",
       "    <tr>\n",
       "      <th>2</th>\n",
       "      <td>2</td>\n",
       "      <td>9327</td>\n",
       "      <td>3</td>\n",
       "      <td>0</td>\n",
       "    </tr>\n",
       "    <tr>\n",
       "      <th>3</th>\n",
       "      <td>2</td>\n",
       "      <td>45918</td>\n",
       "      <td>4</td>\n",
       "      <td>1</td>\n",
       "    </tr>\n",
       "    <tr>\n",
       "      <th>4</th>\n",
       "      <td>2</td>\n",
       "      <td>30035</td>\n",
       "      <td>5</td>\n",
       "      <td>0</td>\n",
       "    </tr>\n",
       "  </tbody>\n",
       "</table>\n",
       "</div>"
      ],
      "text/plain": [
       "   order_id  product_id  add_to_cart_order  reordered\n",
       "0         2       33120                  1          1\n",
       "1         2       28985                  2          1\n",
       "2         2        9327                  3          0\n",
       "3         2       45918                  4          1\n",
       "4         2       30035                  5          0"
      ]
     },
     "execution_count": 50,
     "metadata": {},
     "output_type": "execute_result"
    }
   ],
   "source": [
    "df.head()"
   ]
  },
  {
   "cell_type": "code",
   "execution_count": 51,
   "id": "46c8de9a",
   "metadata": {},
   "outputs": [],
   "source": [
    "#From groceries.csv, the final dataframe was created with the necessary columns.\n",
    "all_orders = df_new[['user_id','order_id','product_id','product_name','department_id','department','add_to_cart_order']]"
   ]
  },
  {
   "cell_type": "code",
   "execution_count": 54,
   "id": "8691cf41",
   "metadata": {},
   "outputs": [
    {
     "data": {
      "text/html": [
       "<div>\n",
       "<style scoped>\n",
       "    .dataframe tbody tr th:only-of-type {\n",
       "        vertical-align: middle;\n",
       "    }\n",
       "\n",
       "    .dataframe tbody tr th {\n",
       "        vertical-align: top;\n",
       "    }\n",
       "\n",
       "    .dataframe thead th {\n",
       "        text-align: right;\n",
       "    }\n",
       "</style>\n",
       "<table border=\"1\" class=\"dataframe\">\n",
       "  <thead>\n",
       "    <tr style=\"text-align: right;\">\n",
       "      <th></th>\n",
       "      <th>user_id</th>\n",
       "      <th>order_id</th>\n",
       "      <th>product_id</th>\n",
       "      <th>product_name</th>\n",
       "      <th>department_id</th>\n",
       "      <th>department</th>\n",
       "      <th>add_to_cart_order</th>\n",
       "    </tr>\n",
       "  </thead>\n",
       "  <tbody>\n",
       "    <tr>\n",
       "      <th>20481231</th>\n",
       "      <td>125093</td>\n",
       "      <td>418920</td>\n",
       "      <td>27845</td>\n",
       "      <td>Organic Whole Milk</td>\n",
       "      <td>16</td>\n",
       "      <td>dairy eggs</td>\n",
       "      <td>3</td>\n",
       "    </tr>\n",
       "    <tr>\n",
       "      <th>20481232</th>\n",
       "      <td>125093</td>\n",
       "      <td>418920</td>\n",
       "      <td>13249</td>\n",
       "      <td>Skim Milk</td>\n",
       "      <td>16</td>\n",
       "      <td>dairy eggs</td>\n",
       "      <td>1</td>\n",
       "    </tr>\n",
       "    <tr>\n",
       "      <th>20481233</th>\n",
       "      <td>125093</td>\n",
       "      <td>418920</td>\n",
       "      <td>37973</td>\n",
       "      <td>Apricot-Raspberry Preserves</td>\n",
       "      <td>13</td>\n",
       "      <td>pantry</td>\n",
       "      <td>5</td>\n",
       "    </tr>\n",
       "    <tr>\n",
       "      <th>20481234</th>\n",
       "      <td>125093</td>\n",
       "      <td>418920</td>\n",
       "      <td>23594</td>\n",
       "      <td>Medium Salsa</td>\n",
       "      <td>13</td>\n",
       "      <td>pantry</td>\n",
       "      <td>4</td>\n",
       "    </tr>\n",
       "    <tr>\n",
       "      <th>20481235</th>\n",
       "      <td>125093</td>\n",
       "      <td>418920</td>\n",
       "      <td>10603</td>\n",
       "      <td>93% Ground Beef</td>\n",
       "      <td>12</td>\n",
       "      <td>meat seafood</td>\n",
       "      <td>2</td>\n",
       "    </tr>\n",
       "    <tr>\n",
       "      <th>20481236</th>\n",
       "      <td>125093</td>\n",
       "      <td>418920</td>\n",
       "      <td>34050</td>\n",
       "      <td>Orange Juice</td>\n",
       "      <td>7</td>\n",
       "      <td>beverages</td>\n",
       "      <td>6</td>\n",
       "    </tr>\n",
       "    <tr>\n",
       "      <th>20485176</th>\n",
       "      <td>125093</td>\n",
       "      <td>440736</td>\n",
       "      <td>27845</td>\n",
       "      <td>Organic Whole Milk</td>\n",
       "      <td>16</td>\n",
       "      <td>dairy eggs</td>\n",
       "      <td>1</td>\n",
       "    </tr>\n",
       "    <tr>\n",
       "      <th>20485177</th>\n",
       "      <td>125093</td>\n",
       "      <td>440736</td>\n",
       "      <td>117</td>\n",
       "      <td>Petit Suisse Fruit</td>\n",
       "      <td>16</td>\n",
       "      <td>dairy eggs</td>\n",
       "      <td>2</td>\n",
       "    </tr>\n",
       "    <tr>\n",
       "      <th>20485178</th>\n",
       "      <td>125093</td>\n",
       "      <td>440736</td>\n",
       "      <td>10603</td>\n",
       "      <td>93% Ground Beef</td>\n",
       "      <td>12</td>\n",
       "      <td>meat seafood</td>\n",
       "      <td>4</td>\n",
       "    </tr>\n",
       "    <tr>\n",
       "      <th>20485179</th>\n",
       "      <td>125093</td>\n",
       "      <td>440736</td>\n",
       "      <td>28597</td>\n",
       "      <td>Organic Stoneground Wheat Crackers</td>\n",
       "      <td>19</td>\n",
       "      <td>snacks</td>\n",
       "      <td>5</td>\n",
       "    </tr>\n",
       "    <tr>\n",
       "      <th>20485180</th>\n",
       "      <td>125093</td>\n",
       "      <td>440736</td>\n",
       "      <td>3835</td>\n",
       "      <td>Coconut Water, Pure Organic</td>\n",
       "      <td>7</td>\n",
       "      <td>beverages</td>\n",
       "      <td>3</td>\n",
       "    </tr>\n",
       "    <tr>\n",
       "      <th>21340319</th>\n",
       "      <td>125093</td>\n",
       "      <td>1692452</td>\n",
       "      <td>13249</td>\n",
       "      <td>Skim Milk</td>\n",
       "      <td>16</td>\n",
       "      <td>dairy eggs</td>\n",
       "      <td>1</td>\n",
       "    </tr>\n",
       "    <tr>\n",
       "      <th>21340320</th>\n",
       "      <td>125093</td>\n",
       "      <td>1692452</td>\n",
       "      <td>30391</td>\n",
       "      <td>Organic Cucumber</td>\n",
       "      <td>4</td>\n",
       "      <td>produce</td>\n",
       "      <td>8</td>\n",
       "    </tr>\n",
       "    <tr>\n",
       "      <th>21340321</th>\n",
       "      <td>125093</td>\n",
       "      <td>1692452</td>\n",
       "      <td>24852</td>\n",
       "      <td>Banana</td>\n",
       "      <td>4</td>\n",
       "      <td>produce</td>\n",
       "      <td>2</td>\n",
       "    </tr>\n",
       "    <tr>\n",
       "      <th>21340322</th>\n",
       "      <td>125093</td>\n",
       "      <td>1692452</td>\n",
       "      <td>23594</td>\n",
       "      <td>Medium Salsa</td>\n",
       "      <td>13</td>\n",
       "      <td>pantry</td>\n",
       "      <td>7</td>\n",
       "    </tr>\n",
       "    <tr>\n",
       "      <th>21340323</th>\n",
       "      <td>125093</td>\n",
       "      <td>1692452</td>\n",
       "      <td>11744</td>\n",
       "      <td>Macrobar Cherries N Berries</td>\n",
       "      <td>19</td>\n",
       "      <td>snacks</td>\n",
       "      <td>5</td>\n",
       "    </tr>\n",
       "    <tr>\n",
       "      <th>21340324</th>\n",
       "      <td>125093</td>\n",
       "      <td>1692452</td>\n",
       "      <td>33198</td>\n",
       "      <td>Sparkling Natural Mineral Water</td>\n",
       "      <td>7</td>\n",
       "      <td>beverages</td>\n",
       "      <td>3</td>\n",
       "    </tr>\n",
       "    <tr>\n",
       "      <th>21340325</th>\n",
       "      <td>125093</td>\n",
       "      <td>1692452</td>\n",
       "      <td>23043</td>\n",
       "      <td>Smartwater® Vapor Distilled Water</td>\n",
       "      <td>7</td>\n",
       "      <td>beverages</td>\n",
       "      <td>4</td>\n",
       "    </tr>\n",
       "    <tr>\n",
       "      <th>21340326</th>\n",
       "      <td>125093</td>\n",
       "      <td>1692452</td>\n",
       "      <td>28849</td>\n",
       "      <td>No Salt Added Black Beans</td>\n",
       "      <td>15</td>\n",
       "      <td>canned goods</td>\n",
       "      <td>6</td>\n",
       "    </tr>\n",
       "    <tr>\n",
       "      <th>30022944</th>\n",
       "      <td>125093</td>\n",
       "      <td>2654654</td>\n",
       "      <td>8424</td>\n",
       "      <td>Broccoli Crown</td>\n",
       "      <td>4</td>\n",
       "      <td>produce</td>\n",
       "      <td>3</td>\n",
       "    </tr>\n",
       "    <tr>\n",
       "      <th>30022945</th>\n",
       "      <td>125093</td>\n",
       "      <td>2654654</td>\n",
       "      <td>21903</td>\n",
       "      <td>Organic Baby Spinach</td>\n",
       "      <td>4</td>\n",
       "      <td>produce</td>\n",
       "      <td>4</td>\n",
       "    </tr>\n",
       "    <tr>\n",
       "      <th>30022946</th>\n",
       "      <td>125093</td>\n",
       "      <td>2654654</td>\n",
       "      <td>35898</td>\n",
       "      <td>Original Hot Sauce</td>\n",
       "      <td>13</td>\n",
       "      <td>pantry</td>\n",
       "      <td>2</td>\n",
       "    </tr>\n",
       "    <tr>\n",
       "      <th>30022947</th>\n",
       "      <td>125093</td>\n",
       "      <td>2654654</td>\n",
       "      <td>44098</td>\n",
       "      <td>Appley Ever After Organic Juice Drink</td>\n",
       "      <td>7</td>\n",
       "      <td>beverages</td>\n",
       "      <td>1</td>\n",
       "    </tr>\n",
       "    <tr>\n",
       "      <th>30022948</th>\n",
       "      <td>125093</td>\n",
       "      <td>2654654</td>\n",
       "      <td>22509</td>\n",
       "      <td>Muenster Cheese</td>\n",
       "      <td>20</td>\n",
       "      <td>deli</td>\n",
       "      <td>5</td>\n",
       "    </tr>\n",
       "    <tr>\n",
       "      <th>32741026</th>\n",
       "      <td>125093</td>\n",
       "      <td>2112938</td>\n",
       "      <td>16198</td>\n",
       "      <td>Natural Uncured Turkey Hot Dog</td>\n",
       "      <td>12</td>\n",
       "      <td>meat seafood</td>\n",
       "      <td>3</td>\n",
       "    </tr>\n",
       "    <tr>\n",
       "      <th>32741027</th>\n",
       "      <td>125093</td>\n",
       "      <td>2112938</td>\n",
       "      <td>13517</td>\n",
       "      <td>Whole Wheat Bread</td>\n",
       "      <td>3</td>\n",
       "      <td>bakery</td>\n",
       "      <td>1</td>\n",
       "    </tr>\n",
       "    <tr>\n",
       "      <th>32741028</th>\n",
       "      <td>125093</td>\n",
       "      <td>2112938</td>\n",
       "      <td>34050</td>\n",
       "      <td>Orange Juice</td>\n",
       "      <td>7</td>\n",
       "      <td>beverages</td>\n",
       "      <td>2</td>\n",
       "    </tr>\n",
       "    <tr>\n",
       "      <th>32741029</th>\n",
       "      <td>125093</td>\n",
       "      <td>2112938</td>\n",
       "      <td>12144</td>\n",
       "      <td>Gluten-Free Chicken Nuggets</td>\n",
       "      <td>1</td>\n",
       "      <td>frozen</td>\n",
       "      <td>4</td>\n",
       "    </tr>\n",
       "    <tr>\n",
       "      <th>33467901</th>\n",
       "      <td>125093</td>\n",
       "      <td>3311213</td>\n",
       "      <td>8087</td>\n",
       "      <td>Florida Orange Juice With Calcium &amp; Vitamin D</td>\n",
       "      <td>7</td>\n",
       "      <td>beverages</td>\n",
       "      <td>5</td>\n",
       "    </tr>\n",
       "    <tr>\n",
       "      <th>33467902</th>\n",
       "      <td>125093</td>\n",
       "      <td>3311213</td>\n",
       "      <td>29603</td>\n",
       "      <td>Pink Virgin Lemonade</td>\n",
       "      <td>7</td>\n",
       "      <td>beverages</td>\n",
       "      <td>3</td>\n",
       "    </tr>\n",
       "    <tr>\n",
       "      <th>33467903</th>\n",
       "      <td>125093</td>\n",
       "      <td>3311213</td>\n",
       "      <td>23043</td>\n",
       "      <td>Smartwater® Vapor Distilled Water</td>\n",
       "      <td>7</td>\n",
       "      <td>beverages</td>\n",
       "      <td>1</td>\n",
       "    </tr>\n",
       "    <tr>\n",
       "      <th>33467904</th>\n",
       "      <td>125093</td>\n",
       "      <td>3311213</td>\n",
       "      <td>13113</td>\n",
       "      <td>Organic Apple Juice Boxes</td>\n",
       "      <td>7</td>\n",
       "      <td>beverages</td>\n",
       "      <td>4</td>\n",
       "    </tr>\n",
       "    <tr>\n",
       "      <th>33467905</th>\n",
       "      <td>125093</td>\n",
       "      <td>3311213</td>\n",
       "      <td>5383</td>\n",
       "      <td>Organic Capellini</td>\n",
       "      <td>9</td>\n",
       "      <td>dry goods pasta</td>\n",
       "      <td>6</td>\n",
       "    </tr>\n",
       "    <tr>\n",
       "      <th>33467906</th>\n",
       "      <td>125093</td>\n",
       "      <td>3311213</td>\n",
       "      <td>9505</td>\n",
       "      <td>Organic Original Rice Pilaf</td>\n",
       "      <td>9</td>\n",
       "      <td>dry goods pasta</td>\n",
       "      <td>2</td>\n",
       "    </tr>\n",
       "    <tr>\n",
       "      <th>33467907</th>\n",
       "      <td>125093</td>\n",
       "      <td>3311213</td>\n",
       "      <td>32433</td>\n",
       "      <td>Green Peas</td>\n",
       "      <td>1</td>\n",
       "      <td>frozen</td>\n",
       "      <td>7</td>\n",
       "    </tr>\n",
       "  </tbody>\n",
       "</table>\n",
       "</div>"
      ],
      "text/plain": [
       "          user_id  order_id  product_id  \\\n",
       "20481231   125093    418920       27845   \n",
       "20481232   125093    418920       13249   \n",
       "20481233   125093    418920       37973   \n",
       "20481234   125093    418920       23594   \n",
       "20481235   125093    418920       10603   \n",
       "20481236   125093    418920       34050   \n",
       "20485176   125093    440736       27845   \n",
       "20485177   125093    440736         117   \n",
       "20485178   125093    440736       10603   \n",
       "20485179   125093    440736       28597   \n",
       "20485180   125093    440736        3835   \n",
       "21340319   125093   1692452       13249   \n",
       "21340320   125093   1692452       30391   \n",
       "21340321   125093   1692452       24852   \n",
       "21340322   125093   1692452       23594   \n",
       "21340323   125093   1692452       11744   \n",
       "21340324   125093   1692452       33198   \n",
       "21340325   125093   1692452       23043   \n",
       "21340326   125093   1692452       28849   \n",
       "30022944   125093   2654654        8424   \n",
       "30022945   125093   2654654       21903   \n",
       "30022946   125093   2654654       35898   \n",
       "30022947   125093   2654654       44098   \n",
       "30022948   125093   2654654       22509   \n",
       "32741026   125093   2112938       16198   \n",
       "32741027   125093   2112938       13517   \n",
       "32741028   125093   2112938       34050   \n",
       "32741029   125093   2112938       12144   \n",
       "33467901   125093   3311213        8087   \n",
       "33467902   125093   3311213       29603   \n",
       "33467903   125093   3311213       23043   \n",
       "33467904   125093   3311213       13113   \n",
       "33467905   125093   3311213        5383   \n",
       "33467906   125093   3311213        9505   \n",
       "33467907   125093   3311213       32433   \n",
       "\n",
       "                                           product_name  department_id  \\\n",
       "20481231                             Organic Whole Milk             16   \n",
       "20481232                                      Skim Milk             16   \n",
       "20481233                    Apricot-Raspberry Preserves             13   \n",
       "20481234                                   Medium Salsa             13   \n",
       "20481235                                93% Ground Beef             12   \n",
       "20481236                                   Orange Juice              7   \n",
       "20485176                             Organic Whole Milk             16   \n",
       "20485177                             Petit Suisse Fruit             16   \n",
       "20485178                                93% Ground Beef             12   \n",
       "20485179             Organic Stoneground Wheat Crackers             19   \n",
       "20485180                    Coconut Water, Pure Organic              7   \n",
       "21340319                                      Skim Milk             16   \n",
       "21340320                               Organic Cucumber              4   \n",
       "21340321                                         Banana              4   \n",
       "21340322                                   Medium Salsa             13   \n",
       "21340323                    Macrobar Cherries N Berries             19   \n",
       "21340324                Sparkling Natural Mineral Water              7   \n",
       "21340325              Smartwater® Vapor Distilled Water              7   \n",
       "21340326                      No Salt Added Black Beans             15   \n",
       "30022944                                 Broccoli Crown              4   \n",
       "30022945                           Organic Baby Spinach              4   \n",
       "30022946                             Original Hot Sauce             13   \n",
       "30022947          Appley Ever After Organic Juice Drink              7   \n",
       "30022948                                Muenster Cheese             20   \n",
       "32741026                 Natural Uncured Turkey Hot Dog             12   \n",
       "32741027                              Whole Wheat Bread              3   \n",
       "32741028                                   Orange Juice              7   \n",
       "32741029                    Gluten-Free Chicken Nuggets              1   \n",
       "33467901  Florida Orange Juice With Calcium & Vitamin D              7   \n",
       "33467902                           Pink Virgin Lemonade              7   \n",
       "33467903              Smartwater® Vapor Distilled Water              7   \n",
       "33467904                      Organic Apple Juice Boxes              7   \n",
       "33467905                              Organic Capellini              9   \n",
       "33467906                    Organic Original Rice Pilaf              9   \n",
       "33467907                                     Green Peas              1   \n",
       "\n",
       "               department  add_to_cart_order  \n",
       "20481231       dairy eggs                  3  \n",
       "20481232       dairy eggs                  1  \n",
       "20481233           pantry                  5  \n",
       "20481234           pantry                  4  \n",
       "20481235     meat seafood                  2  \n",
       "20481236        beverages                  6  \n",
       "20485176       dairy eggs                  1  \n",
       "20485177       dairy eggs                  2  \n",
       "20485178     meat seafood                  4  \n",
       "20485179           snacks                  5  \n",
       "20485180        beverages                  3  \n",
       "21340319       dairy eggs                  1  \n",
       "21340320          produce                  8  \n",
       "21340321          produce                  2  \n",
       "21340322           pantry                  7  \n",
       "21340323           snacks                  5  \n",
       "21340324        beverages                  3  \n",
       "21340325        beverages                  4  \n",
       "21340326     canned goods                  6  \n",
       "30022944          produce                  3  \n",
       "30022945          produce                  4  \n",
       "30022946           pantry                  2  \n",
       "30022947        beverages                  1  \n",
       "30022948             deli                  5  \n",
       "32741026     meat seafood                  3  \n",
       "32741027           bakery                  1  \n",
       "32741028        beverages                  2  \n",
       "32741029           frozen                  4  \n",
       "33467901        beverages                  5  \n",
       "33467902        beverages                  3  \n",
       "33467903        beverages                  1  \n",
       "33467904        beverages                  4  \n",
       "33467905  dry goods pasta                  6  \n",
       "33467906  dry goods pasta                  2  \n",
       "33467907           frozen                  7  "
      ]
     },
     "execution_count": 54,
     "metadata": {},
     "output_type": "execute_result"
    }
   ],
   "source": [
    "#We have examined how many orders a user has placed based on user ID.\n",
    "all_orders[all_orders['user_id']==125093]"
   ]
  },
  {
   "cell_type": "code",
   "execution_count": 56,
   "id": "829bec55",
   "metadata": {},
   "outputs": [
    {
     "data": {
      "text/html": [
       "<div>\n",
       "<style scoped>\n",
       "    .dataframe tbody tr th:only-of-type {\n",
       "        vertical-align: middle;\n",
       "    }\n",
       "\n",
       "    .dataframe tbody tr th {\n",
       "        vertical-align: top;\n",
       "    }\n",
       "\n",
       "    .dataframe thead th {\n",
       "        text-align: right;\n",
       "    }\n",
       "</style>\n",
       "<table border=\"1\" class=\"dataframe\">\n",
       "  <thead>\n",
       "    <tr style=\"text-align: right;\">\n",
       "      <th></th>\n",
       "      <th>user_id</th>\n",
       "      <th>order_id</th>\n",
       "      <th>product_id</th>\n",
       "      <th>product_name</th>\n",
       "      <th>department_id</th>\n",
       "      <th>department</th>\n",
       "      <th>add_to_cart_order</th>\n",
       "    </tr>\n",
       "  </thead>\n",
       "  <tbody>\n",
       "    <tr>\n",
       "      <th>0</th>\n",
       "      <td>202279</td>\n",
       "      <td>2</td>\n",
       "      <td>33120</td>\n",
       "      <td>Organic Egg Whites</td>\n",
       "      <td>16</td>\n",
       "      <td>dairy eggs</td>\n",
       "      <td>1</td>\n",
       "    </tr>\n",
       "    <tr>\n",
       "      <th>1</th>\n",
       "      <td>202279</td>\n",
       "      <td>2</td>\n",
       "      <td>28985</td>\n",
       "      <td>Michigan Organic Kale</td>\n",
       "      <td>4</td>\n",
       "      <td>produce</td>\n",
       "      <td>2</td>\n",
       "    </tr>\n",
       "    <tr>\n",
       "      <th>2</th>\n",
       "      <td>202279</td>\n",
       "      <td>2</td>\n",
       "      <td>17794</td>\n",
       "      <td>Carrots</td>\n",
       "      <td>4</td>\n",
       "      <td>produce</td>\n",
       "      <td>6</td>\n",
       "    </tr>\n",
       "    <tr>\n",
       "      <th>3</th>\n",
       "      <td>202279</td>\n",
       "      <td>2</td>\n",
       "      <td>43668</td>\n",
       "      <td>Classic Blend Cole Slaw</td>\n",
       "      <td>4</td>\n",
       "      <td>produce</td>\n",
       "      <td>9</td>\n",
       "    </tr>\n",
       "    <tr>\n",
       "      <th>4</th>\n",
       "      <td>202279</td>\n",
       "      <td>2</td>\n",
       "      <td>9327</td>\n",
       "      <td>Garlic Powder</td>\n",
       "      <td>13</td>\n",
       "      <td>pantry</td>\n",
       "      <td>3</td>\n",
       "    </tr>\n",
       "    <tr>\n",
       "      <th>...</th>\n",
       "      <td>...</td>\n",
       "      <td>...</td>\n",
       "      <td>...</td>\n",
       "      <td>...</td>\n",
       "      <td>...</td>\n",
       "      <td>...</td>\n",
       "      <td>...</td>\n",
       "    </tr>\n",
       "    <tr>\n",
       "      <th>33819101</th>\n",
       "      <td>27208</td>\n",
       "      <td>1015358</td>\n",
       "      <td>46477</td>\n",
       "      <td>100% Pure Peppermint Oil</td>\n",
       "      <td>2</td>\n",
       "      <td>other</td>\n",
       "      <td>1</td>\n",
       "    </tr>\n",
       "    <tr>\n",
       "      <th>33819102</th>\n",
       "      <td>17880</td>\n",
       "      <td>647259</td>\n",
       "      <td>36631</td>\n",
       "      <td>Soothing Relief Diaper Rash Cream</td>\n",
       "      <td>2</td>\n",
       "      <td>other</td>\n",
       "      <td>1</td>\n",
       "    </tr>\n",
       "    <tr>\n",
       "      <th>33819103</th>\n",
       "      <td>62266</td>\n",
       "      <td>2010951</td>\n",
       "      <td>16161</td>\n",
       "      <td>SystemSupport Liver Cleanse Capsules</td>\n",
       "      <td>2</td>\n",
       "      <td>other</td>\n",
       "      <td>1</td>\n",
       "    </tr>\n",
       "    <tr>\n",
       "      <th>33819104</th>\n",
       "      <td>69235</td>\n",
       "      <td>2684414</td>\n",
       "      <td>1013</td>\n",
       "      <td>Poly-Vi-Sol® Infants And Toddlers Multivitamin...</td>\n",
       "      <td>2</td>\n",
       "      <td>other</td>\n",
       "      <td>1</td>\n",
       "    </tr>\n",
       "    <tr>\n",
       "      <th>33819105</th>\n",
       "      <td>132609</td>\n",
       "      <td>3326955</td>\n",
       "      <td>46404</td>\n",
       "      <td>Cotes De Provence Rose</td>\n",
       "      <td>2</td>\n",
       "      <td>other</td>\n",
       "      <td>1</td>\n",
       "    </tr>\n",
       "  </tbody>\n",
       "</table>\n",
       "<p>33819106 rows × 7 columns</p>\n",
       "</div>"
      ],
      "text/plain": [
       "          user_id  order_id  product_id  \\\n",
       "0          202279         2       33120   \n",
       "1          202279         2       28985   \n",
       "2          202279         2       17794   \n",
       "3          202279         2       43668   \n",
       "4          202279         2        9327   \n",
       "...           ...       ...         ...   \n",
       "33819101    27208   1015358       46477   \n",
       "33819102    17880    647259       36631   \n",
       "33819103    62266   2010951       16161   \n",
       "33819104    69235   2684414        1013   \n",
       "33819105   132609   3326955       46404   \n",
       "\n",
       "                                               product_name  department_id  \\\n",
       "0                                        Organic Egg Whites             16   \n",
       "1                                     Michigan Organic Kale              4   \n",
       "2                                                   Carrots              4   \n",
       "3                                   Classic Blend Cole Slaw              4   \n",
       "4                                             Garlic Powder             13   \n",
       "...                                                     ...            ...   \n",
       "33819101                           100% Pure Peppermint Oil              2   \n",
       "33819102                  Soothing Relief Diaper Rash Cream              2   \n",
       "33819103               SystemSupport Liver Cleanse Capsules              2   \n",
       "33819104  Poly-Vi-Sol® Infants And Toddlers Multivitamin...              2   \n",
       "33819105                             Cotes De Provence Rose              2   \n",
       "\n",
       "          department  add_to_cart_order  \n",
       "0         dairy eggs                  1  \n",
       "1            produce                  2  \n",
       "2            produce                  6  \n",
       "3            produce                  9  \n",
       "4             pantry                  3  \n",
       "...              ...                ...  \n",
       "33819101       other                  1  \n",
       "33819102       other                  1  \n",
       "33819103       other                  1  \n",
       "33819104       other                  1  \n",
       "33819105       other                  1  \n",
       "\n",
       "[33819106 rows x 7 columns]"
      ]
     },
     "execution_count": 56,
     "metadata": {},
     "output_type": "execute_result"
    }
   ],
   "source": [
    "all_orders"
   ]
  },
  {
   "cell_type": "code",
   "execution_count": 57,
   "id": "b1681bc6",
   "metadata": {},
   "outputs": [],
   "source": [
    "### From the above data I have gathered few details like:\n",
    "#### how many customers in the data?\n",
    "\n",
    "#### how many orders placed?\n",
    "\n",
    "#### how many aisles involved?\n",
    "\n",
    "#### how many products ordered?"
   ]
  },
  {
   "cell_type": "code",
   "execution_count": 58,
   "id": "5d2aa7a0",
   "metadata": {},
   "outputs": [
    {
     "name": "stdout",
     "output_type": "stream",
     "text": [
      "206209 customers\n",
      "3346083 orders\n",
      "49685 products\n"
     ]
    }
   ],
   "source": [
    "#simple description of the data.\n",
    "print(str(len(all_orders.user_id.unique())) +' customers')\n",
    "print(str(len(all_orders.order_id.unique())) +' orders')\n",
    "print(str(len(all_orders.product_id.unique())) +' products')"
   ]
  },
  {
   "cell_type": "code",
   "execution_count": 59,
   "id": "c4f87021",
   "metadata": {},
   "outputs": [
    {
     "data": {
      "text/plain": [
       "count    206209.000000\n",
       "mean         16.226658\n",
       "std          16.662238\n",
       "min           3.000000\n",
       "25%           6.000000\n",
       "50%          10.000000\n",
       "75%          20.000000\n",
       "max         100.000000\n",
       "Name: order_id, dtype: float64"
      ]
     },
     "execution_count": 59,
     "metadata": {},
     "output_type": "execute_result"
    }
   ],
   "source": [
    "all_orders.groupby('user_id')['order_id'].nunique().describe()"
   ]
  },
  {
   "cell_type": "code",
   "execution_count": 60,
   "id": "330a63d3",
   "metadata": {},
   "outputs": [
    {
     "data": {
      "text/plain": [
       "Index(['order_id', 'product_id', 'add_to_cart_order', 'reordered',\n",
       "       'product_name', 'aisle_id', 'department_id', 'is_organic', 'aisle_x',\n",
       "       'aisle_y', 'department', 'user_id', 'eval_set', 'order_number',\n",
       "       'order_dow', 'order_hour_of_day', 'days_since_prior_order'],\n",
       "      dtype='object')"
      ]
     },
     "execution_count": 60,
     "metadata": {},
     "output_type": "execute_result"
    }
   ],
   "source": [
    "df_new.columns"
   ]
  },
  {
   "cell_type": "code",
   "execution_count": 61,
   "id": "b819675e",
   "metadata": {},
   "outputs": [],
   "source": [
    "# Effects of time on purchase decisions\n",
    "## How does time impact how customers behave while making purchases?\n",
    "#### The majority of orders are placed on Days 0 and 1.\n",
    "#### Most orders are placed between the hours of 9:00 AM and 4:00 PM.\n",
    "#### Saturday afternoon (1:00 PM) and Sunday morning are the busiest times for orders (10:00AM)\n",
    "#### People often purchase previously purchased goods between 6:00AM and 8:00AM by more than 65%.\n",
    "#### Most consumers place orders seven days following their previous purchase. or within a month after their most recent purchase.\n",
    "#### The likelihood of placing another order within the same month is low when a week has passed since the last one.\n",
    "#### To catch the high likelihood that a client will place their next order, send reminders of the goods that were most likely ordered within a week.\n",
    "#### The probability that the subsequent order will be placed within ten days of the present order is greater.\n",
    "#### Which day of the week receives the most orders?\n",
    "#### According to the graph below, Sunday appears to be the day on which most orders are placed. As people stock up for the week, this is to be anticipated. The day with the most orders is Monday."
   ]
  },
  {
   "cell_type": "code",
   "execution_count": 62,
   "id": "4a99a0f6",
   "metadata": {},
   "outputs": [
    {
     "data": {
      "image/png": "[encoded data removed]",
      "text/plain": [
       "<Figure size 792x504 with 1 Axes>"
      ]
     },
     "metadata": {
      "needs_background": "light"
     },
     "output_type": "display_data"
    }
   ],
   "source": [
    "plt.figure(figsize=(11,7))\n",
    "ticks={'0':'Sunday','1':'Monday','2':'Tuesday','3':'Wednesday','4':'Thursday','5':'Friday','6':'Saturday'}\n",
    "x = sns.barplot(data = df_new.groupby('order_dow')['add_to_cart_order'].sum().sort_values(ascending = False).reset_index()[0:30], x = 'order_dow', y = 'add_to_cart_order')\n",
    "x.set_xticklabels(ticks.values(), rotation = 90)\n",
    "x.set_title('how day of week affect purchases?')\n",
    "x.set(xlabel = 'order_dow', ylabel = 'Units Ordered')\n",
    "plt.show()"
   ]
  },
  {
   "cell_type": "code",
   "execution_count": 64,
   "id": "c104e9a8",
   "metadata": {},
   "outputs": [],
   "source": [
    "# Which time of the day receives the most orders?\n",
    "## The majority of orders, as seen here, are placed between the hours of 10 am and 4 pm. It is anticipated that more orders will be placed during the day."
   ]
  },
  {
   "cell_type": "code",
   "execution_count": 65,
   "id": "35dc94dc",
   "metadata": {},
   "outputs": [
    {
     "data": {
      "image/png": "[encoded data removed]",
      "text/plain": [
       "<Figure size 792x504 with 1 Axes>"
      ]
     },
     "metadata": {
      "needs_background": "light"
     },
     "output_type": "display_data"
    }
   ],
   "source": [
    "plt.figure(figsize=(11,7))\n",
    "x = sns.barplot(data = df_new.groupby('order_hour_of_day')['add_to_cart_order'].sum().sort_values(ascending = False).reset_index()[0:30], x = 'order_hour_of_day', y = 'add_to_cart_order',palette='RdPu')\n",
    "x.set_xticklabels(x.get_xticklabels(), rotation = 90)\n",
    "x.set_title('how hour of day affect purchases?')\n",
    "x.set(xlabel = 'order_hour_of_day', ylabel = 'Units Ordered')\n",
    "plt.show()"
   ]
  },
  {
   "cell_type": "code",
   "execution_count": 66,
   "id": "6be391ba",
   "metadata": {},
   "outputs": [],
   "source": [
    "# How frequently do individuals order groceries?\n",
    "## The days since the previous order information can be used to infer this. Most customers appear to have placed their orders before the 7 and 30 day mark. As consumers often stock up weekly or monthly, this is also expected."
   ]
  },
  {
   "cell_type": "code",
   "execution_count": 68,
   "id": "558c42d7",
   "metadata": {},
   "outputs": [
    {
     "data": {
      "image/png": "[encoded data removed]",
      "text/plain": [
       "<Figure size 792x504 with 1 Axes>"
      ]
     },
     "metadata": {
      "needs_background": "light"
     },
     "output_type": "display_data"
    }
   ],
   "source": [
    "plt.figure(figsize=(11,7))\n",
    "x = sns.barplot(data = df_new.groupby('days_since_prior_order')['add_to_cart_order'].sum().sort_values(ascending = False).reset_index()[0:30], x = 'days_since_prior_order', y = 'add_to_cart_order',palette='PuBu')\n",
    "x.set_xticklabels(x.get_xticklabels(), rotation = 90)\n",
    "x.set_title('how the count of day since last order affect purchases?')\n",
    "x.set(xlabel = 'days_since_prior_order', ylabel = 'Units Ordered')\n",
    "plt.show()"
   ]
  },
  {
   "cell_type": "code",
   "execution_count": 69,
   "id": "70cd5221",
   "metadata": {},
   "outputs": [
    {
     "data": {
      "image/png": "[encoded data removed]",
      "text/plain": [
       "<Figure size 792x504 with 2 Axes>"
      ]
     },
     "metadata": {
      "needs_background": "light"
     },
     "output_type": "display_data"
    }
   ],
   "source": [
    "#Plotting the heat map of orders in per day\n",
    "ticks={'0':'Sunday','1':'Monday','2':'Tuesday','3':'Wednesday','4':'Thursday','5':'Friday','6':'Saturday'}\n",
    "groupeddf = orders.groupby(['order_dow', 'order_hour_of_day'])['order_id'].agg('count').reset_index().rename(columns={'order_id':'orders_count'})\n",
    "heatmap_data = groupeddf.pivot('order_dow', 'order_hour_of_day', 'orders_count')\n",
    "\n",
    "plt.figure(figsize=(11,7))\n",
    "ax = sns.heatmap(data=heatmap_data, cmap=\"rocket\", linewidths=.5)\n",
    "ax.set_yticklabels(ticks.values(), rotation = 45)\n",
    "plt.title('Frequency of orders in per each day and hour')\n",
    "plt.ylabel('Day of week')\n",
    "plt.xlabel('Hour of day')\n",
    "plt.show()"
   ]
  },
  {
   "cell_type": "code",
   "execution_count": 70,
   "id": "f49336bf",
   "metadata": {},
   "outputs": [
    {
     "data": {
      "image/png": "[encoded data removed]",
      "text/plain": [
       "<Figure size 792x504 with 2 Axes>"
      ]
     },
     "metadata": {
      "needs_background": "light"
     },
     "output_type": "display_data"
    }
   ],
   "source": [
    "#Graph for heatmap of reording in each day and hour\n",
    "non_first_orders = df_new['order_number'] != 1\n",
    "groupeddf = df_new[non_first_orders].groupby(['order_dow', 'order_hour_of_day']).agg({'reordered':'mean'}).reset_index().rename(columns={'reordered':'reordered_ratio'})\n",
    "heatmap_data = groupeddf.pivot('order_dow', 'order_hour_of_day', 'reordered_ratio')\n",
    "plt.figure(figsize=(11,7))\n",
    "ax = sns.heatmap(data=heatmap_data, cmap=\"rocket\", linewidths=.5)\n",
    "plt.title('Probability of reordering in each day and hour')\n",
    "plt.ylabel('Day of week')\n",
    "plt.xlabel('Hour of day')\n",
    "plt.show()"
   ]
  },
  {
   "cell_type": "code",
   "execution_count": 71,
   "id": "ee6c9d5c",
   "metadata": {},
   "outputs": [
    {
     "data": {
      "image/png": "[encoded data removed]",
      "text/plain": [
       "<Figure size 792x504 with 1 Axes>"
      ]
     },
     "metadata": {
      "needs_background": "light"
     },
     "output_type": "display_data"
    }
   ],
   "source": [
    "#Bar plot for the ratio on last reordered to new order \n",
    "plt.figure(figsize=(11,7))\n",
    "groupeddf = df_new.groupby(['days_since_prior_order']).agg({'reordered': 'mean'}).rename(columns={'reordered':'reordered_ratio'}).reset_index()\n",
    "sns.barplot(x=groupeddf['days_since_prior_order'], y=groupeddf['reordered_ratio']*100,  palette='viridis')\n",
    "plt.ylabel('Ratio of reordered products in new order')\n",
    "plt.xlabel('Days since last order')\n",
    "plt.xticks(rotation=90)\n",
    "plt.title('Effect of duration since last order on reordered ratio of the new order')\n",
    "plt.show()"
   ]
  },
  {
   "cell_type": "code",
   "execution_count": 72,
   "id": "9f92eea8",
   "metadata": {},
   "outputs": [
    {
     "data": {
      "image/png": "[encoded data removed]",
      "text/plain": [
       "<Figure size 792x504 with 1 Axes>"
      ]
     },
     "metadata": {
      "needs_background": "light"
     },
     "output_type": "display_data"
    }
   ],
   "source": [
    "plt.figure(figsize=(11,7))\n",
    "groupeddf = df_new.groupby(['days_since_prior_order']).agg({'reordered': 'mean'}).rename(columns={'reordered':'reordered_ratio'}).reset_index()\n",
    "sns.lineplot(x=groupeddf['days_since_prior_order'], y=groupeddf['reordered_ratio']*100)\n",
    "plt.ylabel('Ratio of reordered products in new order')\n",
    "plt.xlabel('Days since last order')\n",
    "plt.xticks(rotation=90)\n",
    "plt.title('Effect of duration since last order on reordered ratio of the new order')\n",
    "plt.show()"
   ]
  },
  {
   "cell_type": "code",
   "execution_count": 73,
   "id": "0c8fe8d4",
   "metadata": {},
   "outputs": [
    {
     "data": {
      "image/png": "[encoded data removed]",
      "text/plain": [
       "<Figure size 792x504 with 1 Axes>"
      ]
     },
     "metadata": {
      "needs_background": "light"
     },
     "output_type": "display_data"
    }
   ],
   "source": [
    "#Popular items ordered \n",
    "plt.figure(figsize=(11,7))\n",
    "x = sns.barplot(data = df_new.groupby('product_name')['add_to_cart_order'].sum().sort_values(ascending = False).reset_index()[0:30], x = 'product_name', y = 'add_to_cart_order', palette='flare')\n",
    "x.set_xticklabels(x.get_xticklabels(), rotation = 90)\n",
    "\n",
    "x.set(xlabel = 'product_name', ylabel = 'Units Ordered')\n",
    "plt.title('Most popular items in terms of units ordered')\n",
    "plt.show()"
   ]
  },
  {
   "cell_type": "code",
   "execution_count": 74,
   "id": "9b4c2b74",
   "metadata": {},
   "outputs": [
    {
     "data": {
      "image/png": "[encoded data removed]",
      "text/plain": [
       "<Figure size 792x504 with 1 Axes>"
      ]
     },
     "metadata": {
      "needs_background": "light"
     },
     "output_type": "display_data"
    }
   ],
   "source": [
    "#Popular departments\n",
    "plt.figure(figsize=(11,7))\n",
    "x = sns.barplot(data = df_new.groupby('department')['add_to_cart_order'].sum().sort_values(ascending = False).reset_index()[0:30], x = 'department', y = 'add_to_cart_order')\n",
    "x.set_xticklabels(x.get_xticklabels(), rotation = 90)\n",
    "x.set(xlabel = 'Department', ylabel = 'Units Ordered')\n",
    "plt.title(\"Most popular departments in terms of units ordered\")\n",
    "plt.show()"
   ]
  },
  {
   "cell_type": "code",
   "execution_count": 76,
   "id": "010f747b",
   "metadata": {},
   "outputs": [
    {
     "data": {
      "text/plain": [
       "<Figure size 792x504 with 0 Axes>"
      ]
     },
     "metadata": {},
     "output_type": "display_data"
    },
    {
     "data": {
      "image/png": "[encoded data removed]",
      "text/plain": [
       "<Figure size 432x288 with 1 Axes>"
      ]
     },
     "metadata": {
      "needs_background": "light"
     },
     "output_type": "display_data"
    }
   ],
   "source": [
    "# Sorting Products by the count of times they appeared first in cart.\n",
    "\n",
    "total_orders= len(all_orders.order_id.unique())\n",
    "\n",
    "first_order_product = all_orders[all_orders['add_to_cart_order'] == 1]\n",
    "first_product_freq_desc = first_order_product.groupby(['product_name'], as_index = False)['order_id'].count().sort_values(by=['order_id'], ascending=False)\n",
    "first_product_freq_desc['count_of_ordering_first'] = first_product_freq_desc['order_id']\n",
    "\n",
    "# Ploting the Percentage of being ordered first for the 30 most first ordered products.\n",
    "\n",
    "first_product_freq_desc['percentage_of_ordering_first'] = (first_product_freq_desc['count_of_ordering_first']/total_orders) * 100\n",
    "plt.figure(figsize=(11,7))\n",
    "first_product_freq_desc.iloc[:30].plot.bar(x='product_name', y='percentage_of_ordering_first')\n",
    "plt.ylabel('30 most first ordered products')\n",
    "plt.xlabel('probability of being ordered first')\n",
    "plt.xticks(rotation=90)\n",
    "plt.title('How often a product is the first item purchased?')\n",
    "plt.show()"
   ]
  },
  {
   "cell_type": "code",
   "execution_count": 77,
   "id": "8d7fae8b",
   "metadata": {},
   "outputs": [
    {
     "data": {
      "image/png": "[encoded data removed]",
      "text/plain": [
       "<Figure size 648x360 with 1 Axes>"
      ]
     },
     "metadata": {
      "needs_background": "light"
     },
     "output_type": "display_data"
    }
   ],
   "source": [
    "#Organinc products\n",
    "total_products_count = products.shape[0]\n",
    "organic_ratio = products['is_organic'].value_counts()/total_products_count*100\n",
    "plt.figure(figsize=(9,5))\n",
    "ax = sns.barplot(x= organic_ratio.index, y=organic_ratio.values)\n",
    "plt.title('Ratio of organic products found in supermarket')\n",
    "plt.show()"
   ]
  },
  {
   "cell_type": "code",
   "execution_count": 78,
   "id": "1f4c79e0",
   "metadata": {},
   "outputs": [
    {
     "data": {
      "image/png": "[encoded data removed]",
      "text/plain": [
       "<Figure size 648x360 with 1 Axes>"
      ]
     },
     "metadata": {
      "needs_background": "light"
     },
     "output_type": "display_data"
    }
   ],
   "source": [
    "#Purchase of orgainc products\n",
    "total_order_products_count = products.shape[0]\n",
    "organic_freq = df_new['is_organic'].value_counts()/total_order_products_count*100\n",
    "plt.figure(figsize=(9,5))\n",
    "ax = sns.barplot(x= organic_freq.index, y=organic_freq.values, palette = ['tab:green','tab:red'])\n",
    "ax.set_xticklabels(['non-organic', 'organic'])\n",
    "plt.title('Frequency of buying organic products')\n",
    "plt.show()"
   ]
  },
  {
   "cell_type": "code",
   "execution_count": 79,
   "id": "425fa116",
   "metadata": {},
   "outputs": [
    {
     "data": {
      "image/png": "[encoded data removed]",
      "text/plain": [
       "<Figure size 648x360 with 1 Axes>"
      ]
     },
     "metadata": {
      "needs_background": "light"
     },
     "output_type": "display_data"
    }
   ],
   "source": [
    "#Re-purchase of organic vs non-organic products\n",
    "non_first_orders_mask = df_new['order_number'] != 1\n",
    "groupeddf = df_new[non_first_orders_mask].groupby(['is_organic']).agg({'reordered':'mean'}).rename(columns={'reordered':'reordered_ratio'}).reset_index()\n",
    "plt.figure(figsize=(9,5))\n",
    "ax = sns.barplot(x='is_organic', y='reordered_ratio', data=groupeddf, palette = 'husl')\n",
    "ax.set_xticklabels(['non-organic', 'organic'])\n",
    "plt.title('Reordering ratio of organic products vs non-organic')\n",
    "plt.show()"
   ]
  },
  {
   "cell_type": "code",
   "execution_count": 83,
   "id": "fb36dab5",
   "metadata": {},
   "outputs": [
    {
     "data": {
      "text/plain": [
       "department  order_hour_of_day\n",
       "produce     10                   832676\n",
       "            11                   829503\n",
       "            14                   821799\n",
       "            13                   813308\n",
       "            15                   811559\n",
       "                                  ...  \n",
       "other       3                        72\n",
       "bulk        2                        69\n",
       "other       4                        66\n",
       "bulk        3                        50\n",
       "            4                        47\n",
       "Name: department_id, Length: 504, dtype: int64"
      ]
     },
     "execution_count": 83,
     "metadata": {},
     "output_type": "execute_result"
    }
   ],
   "source": [
    "# Using groupBy for both department and order_hour_of_day \n",
    "df_new.groupby([\"department\", \"order_hour_of_day\"])['department_id'].count().sort_values(ascending=False)"
   ]
  },
  {
   "cell_type": "code",
   "execution_count": 84,
   "id": "30306663",
   "metadata": {},
   "outputs": [
    {
     "data": {
      "text/plain": [
       "product_name\n",
       "Banana                                           491291\n",
       "Bag of Organic Bananas                           394930\n",
       "Organic Strawberries                             275577\n",
       "Organic Baby Spinach                             251705\n",
       "Organic Hass Avocado                             220877\n",
       "                                                  ...  \n",
       "Greek Blended Cherry Fat Free Yogurt                  1\n",
       "All Natural Stevia Liquid Extract Sweetener           1\n",
       "Frittata, Farmer's Market                             1\n",
       "Max White With Polishing Star Soft Toothbrush         1\n",
       "Orange Recharge                                       1\n",
       "Name: product_id, Length: 49685, dtype: int64"
      ]
     },
     "execution_count": 84,
     "metadata": {},
     "output_type": "execute_result"
    }
   ],
   "source": [
    "df_new.groupby(\"product_name\")['product_id'].count().sort_values(ascending=False)"
   ]
  },
  {
   "cell_type": "code",
   "execution_count": 85,
   "id": "0ec7d7c6",
   "metadata": {},
   "outputs": [
    {
     "data": {
      "text/plain": [
       "product_name\n",
       "Banana                                                115521\n",
       "Bag of Organic Bananas                                 82877\n",
       "Organic Whole Milk                                     32071\n",
       "Organic Strawberries                                   28875\n",
       "Organic Hass Avocado                                   24913\n",
       "                                                       ...  \n",
       "Prime Cuts Svory Beef Dog Food                             1\n",
       "Lucky Charms Marshmallow Flavor Treats                     1\n",
       "Complete Skillet Meal For Two Beef & Broccoli              1\n",
       "Complete Sensitive All Day Moisturizer With SPF 15         1\n",
       "Artichoke Hearts In Water                                  1\n",
       "Name: product_id, Length: 42188, dtype: int64"
      ]
     },
     "execution_count": 85,
     "metadata": {},
     "output_type": "execute_result"
    }
   ],
   "source": [
    "add2cart_1=df_new[df_new['add_to_cart_order']==1]\n",
    "add2cart_1.groupby(\"product_name\")['product_id'].count().sort_values(ascending=False)"
   ]
  },
  {
   "cell_type": "code",
   "execution_count": 86,
   "id": "dabb8b30",
   "metadata": {},
   "outputs": [
    {
     "data": {
      "text/plain": [
       "product_name\n",
       "Banana                                                83631\n",
       "Bag of Organic Bananas                                67204\n",
       "Organic Strawberries                                  30836\n",
       "Organic Hass Avocado                                  27442\n",
       "Organic Baby Spinach                                  26071\n",
       "                                                      ...  \n",
       "Farmland Hickory Smoked Bacon 24oz                        1\n",
       "Sugar Free Orange Marmalade                               1\n",
       "Farmhouse Reserve Aged Cheddar Cheese                     1\n",
       "Farmer’s Market Vine Ripened Tomato & Basil Hummus        1\n",
       "Crunchy Almond Unsalted Butter                            1\n",
       "Name: product_id, Length: 42003, dtype: int64"
      ]
     },
     "execution_count": 86,
     "metadata": {},
     "output_type": "execute_result"
    }
   ],
   "source": [
    "add2cart_2=df_new[df_new['add_to_cart_order']==2]\n",
    "add2cart_2.groupby(\"product_name\")['product_id'].count().sort_values(ascending=False)"
   ]
  },
  {
   "cell_type": "code",
   "execution_count": 87,
   "id": "92eed55d",
   "metadata": {},
   "outputs": [
    {
     "data": {
      "text/plain": [
       "product_name\n",
       "Banana                                                                    60832\n",
       "Bag of Organic Bananas                                                    50923\n",
       "Organic Strawberries                                                      28908\n",
       "Organic Baby Spinach                                                      25346\n",
       "Organic Hass Avocado                                                      25029\n",
       "                                                                          ...  \n",
       "Soup Mix, Split Pea, with Seasonings                                          1\n",
       "Air Effects UNstopables Fresh Air Freshener (1 Count, 9.7 oz) Air Care        1\n",
       "Keurig House Blend Extra Bold Medium Roast Coffee K Cups                      1\n",
       "Sore Throat, Sprayer, Menthol                                                 1\n",
       "Mixations Pineapple Pouch Apple                                               1\n",
       "Name: product_id, Length: 41963, dtype: int64"
      ]
     },
     "execution_count": 87,
     "metadata": {},
     "output_type": "execute_result"
    }
   ],
   "source": [
    "add2cart_3=df_new[df_new['add_to_cart_order']==3]\n",
    "add2cart_3.groupby(\"product_name\")['product_id'].count().sort_values(ascending=False)"
   ]
  },
  {
   "cell_type": "code",
   "execution_count": 88,
   "id": "b0c46de5",
   "metadata": {},
   "outputs": [
    {
     "data": {
      "text/plain": [
       "count    206209.000000\n",
       "mean         16.226658\n",
       "std          16.662238\n",
       "min           3.000000\n",
       "25%           6.000000\n",
       "50%          10.000000\n",
       "75%          20.000000\n",
       "max         100.000000\n",
       "Name: order_id, dtype: float64"
      ]
     },
     "execution_count": 88,
     "metadata": {},
     "output_type": "execute_result"
    }
   ],
   "source": [
    "# summary of number of orders by user\n",
    "\n",
    "df_new.groupby('user_id')['order_id'].nunique().describe()"
   ]
  },
  {
   "cell_type": "code",
   "execution_count": 89,
   "id": "3a237f2f",
   "metadata": {},
   "outputs": [
    {
     "data": {
      "text/plain": [
       "[Text(0.5, 0, 'Orders/User')]"
      ]
     },
     "execution_count": 89,
     "metadata": {},
     "output_type": "execute_result"
    },
    {
     "data": {
      "image/png": "[encoded data removed]",
      "text/plain": [
       "<Figure size 432x288 with 1 Axes>"
      ]
     },
     "metadata": {
      "needs_background": "light"
     },
     "output_type": "display_data"
    }
   ],
   "source": [
    "# distribution plot of orders/user\n",
    "\n",
    "x = sns.distplot(df_new.groupby('user_id')['order_id'].nunique())\n",
    "x.set(xlabel = 'Orders/User')"
   ]
  },
  {
   "cell_type": "code",
   "execution_count": 90,
   "id": "08273077",
   "metadata": {},
   "outputs": [
    {
     "data": {
      "text/plain": [
       "count    206209.000000\n",
       "mean       1372.342643\n",
       "std        2489.390476\n",
       "min           3.000000\n",
       "25%         203.000000\n",
       "50%         568.000000\n",
       "75%        1483.000000\n",
       "max      138990.000000\n",
       "Name: add_to_cart_order, dtype: float64"
      ]
     },
     "execution_count": 90,
     "metadata": {},
     "output_type": "execute_result"
    }
   ],
   "source": [
    "# summary of units ordered/customer over the year\n",
    "\n",
    "df_new.groupby('user_id')['add_to_cart_order'].sum().describe()"
   ]
  },
  {
   "cell_type": "code",
   "execution_count": 91,
   "id": "0b23c017",
   "metadata": {},
   "outputs": [
    {
     "data": {
      "text/plain": [
       "[Text(0.5, 0, 'Units Ordered/User')]"
      ]
     },
     "execution_count": 91,
     "metadata": {},
     "output_type": "execute_result"
    },
    {
     "data": {
      "image/png": "[encoded data removed]",
      "text/plain": [
       "<Figure size 432x288 with 1 Axes>"
      ]
     },
     "metadata": {
      "needs_background": "light"
     },
     "output_type": "display_data"
    }
   ],
   "source": [
    "# distplot of number of units ordered/customer ordered over the year\n",
    "\n",
    "x = sns.distplot(df_new.groupby('user_id')['add_to_cart_order'].sum())\n",
    "x.set(xlabel = 'Units Ordered/User')"
   ]
  },
  {
   "cell_type": "code",
   "execution_count": 92,
   "id": "2fa6af24",
   "metadata": {},
   "outputs": [
    {
     "data": {
      "text/plain": [
       "count    3.346083e+06\n",
       "mean     8.457334e+01\n",
       "std      1.355298e+02\n",
       "min      1.000000e+00\n",
       "25%      1.500000e+01\n",
       "50%      3.600000e+01\n",
       "75%      1.050000e+02\n",
       "max      1.058500e+04\n",
       "Name: add_to_cart_order, dtype: float64"
      ]
     },
     "execution_count": 92,
     "metadata": {},
     "output_type": "execute_result"
    }
   ],
   "source": [
    "# summary of order size\n",
    "\n",
    "df_new.groupby('order_id')['add_to_cart_order'].sum().describe()"
   ]
  },
  {
   "cell_type": "code",
   "execution_count": 93,
   "id": "1247824d",
   "metadata": {},
   "outputs": [
    {
     "data": {
      "text/plain": [
       "[Text(0.5, 0, 'Units/Order')]"
      ]
     },
     "execution_count": 93,
     "metadata": {},
     "output_type": "execute_result"
    },
    {
     "data": {
      "image/png": "[encoded data removed]",
      "text/plain": [
       "<Figure size 432x288 with 1 Axes>"
      ]
     },
     "metadata": {
      "needs_background": "light"
     },
     "output_type": "display_data"
    }
   ],
   "source": [
    "# distplot of number of units/order\n",
    "\n",
    "x = sns.distplot(df_new.groupby('order_id')['add_to_cart_order'].sum())\n",
    "x.set(xlabel = 'Units/Order')"
   ]
  },
  {
   "cell_type": "code",
   "execution_count": 94,
   "id": "8ebb13ea",
   "metadata": {},
   "outputs": [
    {
     "data": {
      "text/plain": [
       "[Text(0.5, 0, 'Units/Order')]"
      ]
     },
     "execution_count": 94,
     "metadata": {},
     "output_type": "execute_result"
    },
    {
     "data": {
      "image/png": "[encoded data removed]",
      "text/plain": [
       "<Figure size 432x288 with 1 Axes>"
      ]
     },
     "metadata": {
      "needs_background": "light"
     },
     "output_type": "display_data"
    }
   ],
   "source": [
    "# cutoff previous distplot 500 units\n",
    "\n",
    "order_size = df_new.groupby('order_id')['add_to_cart_order'].sum().reset_index()\n",
    "\n",
    "x = sns.distplot(order_size[order_size['add_to_cart_order'] < 500]['add_to_cart_order'], kde = False)\n",
    "x.set(xlabel = 'Units/Order')"
   ]
  },
  {
   "cell_type": "code",
   "execution_count": 95,
   "id": "148a7a66",
   "metadata": {},
   "outputs": [
    {
     "data": {
      "text/plain": [
       "count    206209.000000\n",
       "mean         15.448686\n",
       "std           6.915575\n",
       "min           0.000000\n",
       "25%           9.814815\n",
       "50%          15.000000\n",
       "75%          20.625000\n",
       "max          30.000000\n",
       "Name: days_since_prior_order, dtype: float64"
      ]
     },
     "execution_count": 95,
     "metadata": {},
     "output_type": "execute_result"
    }
   ],
   "source": [
    "# summary statistics for average time between orders by user\n",
    "\n",
    "orders.groupby('user_id')['days_since_prior_order'].mean().describe()"
   ]
  },
  {
   "cell_type": "code",
   "execution_count": 96,
   "id": "5f72060f",
   "metadata": {},
   "outputs": [
    {
     "data": {
      "text/plain": [
       "[Text(0.5, 0, 'Average Days Between Orders By User')]"
      ]
     },
     "execution_count": 96,
     "metadata": {},
     "output_type": "execute_result"
    },
    {
     "data": {
      "image/png": "[encoded data removed]",
      "text/plain": [
       "<Figure size 432x288 with 1 Axes>"
      ]
     },
     "metadata": {
      "needs_background": "light"
     },
     "output_type": "display_data"
    }
   ],
   "source": [
    "# distplot for time between orders\n",
    "\n",
    "x = sns.distplot(orders.groupby('user_id')['days_since_prior_order'].mean())\n",
    "x.set(xlabel = 'Average Days Between Orders By User')"
   ]
  },
  {
   "cell_type": "code",
   "execution_count": 97,
   "id": "a369fece",
   "metadata": {},
   "outputs": [
    {
     "data": {
      "image/png": "[encoded data removed]",
      "text/plain": [
       "<Figure size 432x288 with 1 Axes>"
      ]
     },
     "metadata": {
      "needs_background": "light"
     },
     "output_type": "display_data"
    }
   ],
   "source": [
    "#Repurchase of items accoridng to the train set\n",
    "total_prod_count = order_products_train.shape[0]\n",
    "reorder_ratio = order_products_train['reordered'].value_counts()/total_prod_count\n",
    "ax = sns.barplot(x=reorder_ratio.index, y=reorder_ratio.values, palette = 'Set2')\n",
    "ax.set_xticklabels(['first-time ordered products', 'reordered'])\n",
    "plt.title('Reordered ratio of products in train set')\n",
    "plt.show()"
   ]
  },
  {
   "cell_type": "code",
   "execution_count": null,
   "id": "0feb153b",
   "metadata": {},
   "outputs": [],
   "source": []
  }
 ],
 "metadata": {
  "kernelspec": {
   "display_name": "Python 3 (ipykernel)",
   "language": "python",
   "name": "python3"
  },
  "language_info": {
   "codemirror_mode": {
    "name": "ipython",
    "version": 3
   },
   "file_extension": ".py",
   "mimetype": "text/x-python",
   "name": "python",
   "nbconvert_exporter": "python",
   "pygments_lexer": "ipython3",
   "version": "3.8.8"
  }
 },
 "nbformat": 4,
 "nbformat_minor": 5
}
